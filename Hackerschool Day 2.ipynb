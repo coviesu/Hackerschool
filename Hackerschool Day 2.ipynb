{
 "cells": [
  {
   "attachments": {},
   "cell_type": "markdown",
   "metadata": {
    "slideshow": {
     "slide_type": "skip"
    }
   },
   "source": [
    "$\n",
    "\\newcommand{\\nc}{\\newcommand} \n",
    "\\nc{\\t}{\\text}\n",
    "\\nc{\\tb}{\\textbf}\n",
    "\\nc{\\ti}{\\textit}\n",
    "$"
   ]
  },
  {
   "attachments": {},
   "cell_type": "markdown",
   "metadata": {
    "slideshow": {
     "slide_type": "slide"
    }
   },
   "source": [
    "# $$\\textbf{Hackerschool } $$\n",
    "<img src = \"https://vapassion.de/wp-content/uploads/2020/11/Acc_Logo_White_Purple_RGB_Dark1.png\" alt=\"image\" width =\"2000\">\n",
    "\n",
    "\n",
    "#### $$\\text{Tag 2}$$\n",
    "#### $$\\text{Claudia Oviesu und Leon Plumpe}$$\n"
   ]
  },
  {
   "attachments": {},
   "cell_type": "markdown",
   "metadata": {
    "slideshow": {
     "slide_type": "slide"
    }
   },
   "source": [
    "## $$\\textbf{Allgemeiner Kursüberblick}$$\n",
    "<hr>"
   ]
  },
  {
   "attachments": {},
   "cell_type": "markdown",
   "metadata": {},
   "source": [
    "* Wiederholung Tag 1\n",
    "    * Übungen "
   ]
  },
  {
   "attachments": {},
   "cell_type": "markdown",
   "metadata": {},
   "source": [
    "* Schleifen\n",
    "    * For-Schleifen\n",
    "    * While-Schleifen\n",
    "    * Break & continue\n",
    "    * List comprehension\n",
    "    "
   ]
  },
  {
   "attachments": {},
   "cell_type": "markdown",
   "metadata": {},
   "source": [
    " * Funktionen\n",
    "    * Wofür sind Funktionen sinnvoll?"
   ]
  },
  {
   "attachments": {},
   "cell_type": "markdown",
   "metadata": {
    "slideshow": {
     "slide_type": "fragment"
    }
   },
   "source": [
    "* Rekursion\n",
    "    * Grundprinzip\n",
    "    * Beispiele"
   ]
  },
  {
   "attachments": {},
   "cell_type": "markdown",
   "metadata": {
    "slideshow": {
     "slide_type": "slide"
    }
   },
   "source": [
    "## $$\\textbf{Wiederholung Tag 1}$$\n",
    "<hr>"
   ]
  },
  {
   "attachments": {},
   "cell_type": "markdown",
   "metadata": {
    "slideshow": {
     "slide_type": "fragment"
    }
   },
   "source": [
    "* Damit ihr das, was wir euch gestern beigebracht haben, nicht so schnell vergesst, haben wir euch hier ein paar Aufgaben zusammengestellt\n",
    "<br>\n",
    "<br>\n"
   ]
  },
  {
   "attachments": {},
   "cell_type": "markdown",
   "metadata": {
    "slideshow": {
     "slide_type": "slide"
    }
   },
   "source": [
    "### $$\\textbf{Übungen}$$\n",
    "<hr>"
   ]
  },
  {
   "attachments": {},
   "cell_type": "markdown",
   "metadata": {},
   "source": [
    "Aufgabe 1: Schreibe ein Programm, das den Benutzer nach seinem Namen fragt und dann überprüft, ob der eingegebene Name \"Max\" ist. Wenn ja, soll das Programm \"Hallo Max!\" ausgeben. Andernfalls soll es \"Zugriff verwehrt!\" ausgeben."
   ]
  },
  {
   "cell_type": "code",
   "execution_count": 14,
   "metadata": {},
   "outputs": [
    {
     "name": "stdout",
     "output_type": "stream",
     "text": [
      "Zugriff verwehrt!\n"
     ]
    }
   ],
   "source": []
  },
  {
   "attachments": {},
   "cell_type": "markdown",
   "metadata": {},
   "source": [
    "Aufgabe 2:\n",
    "Schreibe ein Programm, das den Benutzer nach seinem Alter fragt und dann überprüft, ob er/sie alt genug ist, um Achterbahn zu fahren. Das Mindestalter beträgt 12 Jahre. Wenn das Alter ausreicht, soll das Programm \"Du darfst Achterbahn fahren!\" ausgeben. Andernfalls soll es \"Du bist noch zu jung für die Achterbahn!\" ausgeben."
   ]
  },
  {
   "cell_type": "code",
   "execution_count": 2,
   "metadata": {},
   "outputs": [
    {
     "name": "stdout",
     "output_type": "stream",
     "text": [
      "Du darfst Achterbahn fahren!\n"
     ]
    }
   ],
   "source": [
    "\n"
   ]
  },
  {
   "attachments": {},
   "cell_type": "markdown",
   "metadata": {},
   "source": [
    "Aufgabe 3:\n",
    "Schreibe ein Programm, das den Benutzer nach einer Zahl fragt und überprüft, ob die Zahl gerade oder ungerade ist. Wenn die Zahl gerade ist, soll das Programm \"Die Zahl ist gerade!\" ausgeben. Andernfalls soll es \"Die Zahl ist ungerade!\" ausgeben."
   ]
  },
  {
   "cell_type": "code",
   "execution_count": 3,
   "metadata": {},
   "outputs": [
    {
     "name": "stdout",
     "output_type": "stream",
     "text": [
      "Die Zahl ist ungerade!\n"
     ]
    }
   ],
   "source": []
  },
  {
   "attachments": {},
   "cell_type": "markdown",
   "metadata": {},
   "source": [
    "Aufgabe 4:\n",
    "Schreibe ein Programm, das den Benutzer nach einer Punktzahl in einem Spiel fragt und dann überprüft, ob er/sie den Highscore erreicht hat. Der Highscore beträgt 100 Punkte. Wenn die Punktzahl den Highscore erreicht oder übertrifft, soll das Programm \"Glückwunsch! Du hast den Highscore erreicht!\" ausgeben und den Wert des highscores überschreiben. Andernfalls soll es \"Leider hast du den Highscore nicht erreicht. Versuche es erneut!\" ausgeben."
   ]
  },
  {
   "cell_type": "code",
   "execution_count": 6,
   "metadata": {},
   "outputs": [
    {
     "name": "stdout",
     "output_type": "stream",
     "text": [
      "Glückwunsch! Du hast den highscore erreicht!\n",
      "Der neue highscore ist: 122\n"
     ]
    }
   ],
   "source": []
  },
  {
   "attachments": {},
   "cell_type": "markdown",
   "metadata": {},
   "source": [
    "Aufgabe 5:\n",
    "Schreibe ein Programm, das den Benutzer nach einer geheimen Zahl zwischen 1 und 10 fragt und dann überprüft, ob die eingegebene Zahl mit der geheimen Zahl übereinstimmt. Wenn die Zahl richtig geraten wurde, soll das Programm \"Glückwunsch! Du hast die geheime Zahl gefunden!\" ausgeben. Andernfalls soll es \"Leider hast du die geheime Zahl nicht gefunden. Versuche es erneut!\" ausgeben."
   ]
  },
  {
   "cell_type": "code",
   "execution_count": 1,
   "metadata": {},
   "outputs": [
    {
     "name": "stdout",
     "output_type": "stream",
     "text": [
      "Leider hast du die geheime Zahl nicht gefunden. Versuche es erneut!\n"
     ]
    }
   ],
   "source": []
  },
  {
   "attachments": {},
   "cell_type": "markdown",
   "metadata": {},
   "source": [
    "Aufgabe 6: \n",
    "Schreibe ein Programm, indem du die Maße eines Quaders eingeben kannst. Das Programm soll in der Lage dein das Volumen, die Oberfläche und die Hauptdiagonale zu berechnen. Außerdem soll das Programm dich darauf hinweisen eine positive Zahl einzugeben, sobald du eine negative Zahl (-1,-2,-3...) eingibst. Warum sollten Eingaben negativer Zahlen abgefangen werden?\n",
    "\n",
    "Hinweis:\n",
    "Die Formel für die Länge der Hauptdiagonale eines Quaders kann über zweimaliges Anwenden vom Satz des Pythagoras ermittelt werden.  "
   ]
  },
  {
   "cell_type": "code",
   "execution_count": 15,
   "metadata": {},
   "outputs": [
    {
     "name": "stdout",
     "output_type": "stream",
     "text": [
      "Gebe die die Maße des Quaders an!\n",
      "Volumen: 6\n",
      "Oberfläche: 22\n",
      "Raumdiagonale: 3.7416573867739413\n"
     ]
    }
   ],
   "source": []
  },
  {
   "attachments": {},
   "cell_type": "markdown",
   "metadata": {},
   "source": [
    "## $$\\textbf{Schleifen}$$\n",
    "<hr>"
   ]
  },
  {
   "attachments": {},
   "cell_type": "markdown",
   "metadata": {},
   "source": [
    "* Schleifen wiederholen Codeblöcke: Schleifen ermöglichen es uns, Code mehrmals auszuführen, anstatt ihn immer wieder manuell zu wiederholen\n",
    "* In Python gibt es zwei Arten von Schleifen: \n",
    "    * for-Schleifen\n",
    "    * while-Schleifen"
   ]
  },
  {
   "attachments": {},
   "cell_type": "markdown",
   "metadata": {},
   "source": [
    "### $$\\textbf{for-Schleifen}$$\n",
    "<hr>"
   ]
  },
  {
   "attachments": {},
   "cell_type": "markdown",
   "metadata": {},
   "source": [
    "* Die for-Schleife wird verwendet, um eine bestimmte Anzahl von Elementen zu durchlaufen, z. B. eine Liste oder einen Bereich von Zahlen.\n",
    "* Syntax: **for element in sequence:**\n",
    " "
   ]
  },
  {
   "cell_type": "code",
   "execution_count": 2,
   "metadata": {},
   "outputs": [
    {
     "name": "stdout",
     "output_type": "stream",
     "text": [
      "1\n",
      "2\n",
      "3\n",
      "4\n",
      "5\n"
     ]
    }
   ],
   "source": [
    "#Beispiel:\n",
    "for zahl in range(1, 6):\n",
    "    print(zahl)\n",
    "# Ausgabe: 1, 2, 3, 4, 5"
   ]
  },
  {
   "attachments": {},
   "cell_type": "markdown",
   "metadata": {},
   "source": [
    "Aufgabe 7: Printe alle Obstsorten aus der Liste Obskorb.\n",
    "\n",
    "```python \n",
    "Obstkorb = [\"Äpfel\", \"Bananen\", \"Kirschen\", \"Trauben\", \"Mandarinen\"]\n",
    "```"
   ]
  },
  {
   "cell_type": "code",
   "execution_count": 7,
   "metadata": {},
   "outputs": [
    {
     "name": "stdout",
     "output_type": "stream",
     "text": [
      "Äpfel\n",
      "Bananen\n",
      "Kirschen\n",
      "Trauben\n",
      "Mandarinen\n"
     ]
    }
   ],
   "source": []
  },
  {
   "attachments": {},
   "cell_type": "markdown",
   "metadata": {},
   "source": [
    "* Du kannst auch einen einzelnen String durchlaufen und jeden einzelnen Buchstaben des Strings ausdrucken."
   ]
  },
  {
   "cell_type": "code",
   "execution_count": 7,
   "metadata": {},
   "outputs": [
    {
     "name": "stdout",
     "output_type": "stream",
     "text": [
      "b\n",
      "a\n",
      "n\n",
      "a\n",
      "n\n",
      "a\n"
     ]
    }
   ],
   "source": [
    "for x in \"banana\":\n",
    "  print(x)"
   ]
  },
  {
   "attachments": {},
   "cell_type": "markdown",
   "metadata": {},
   "source": [
    "Aufgabe 8: Gebe das Wort \"Hackerschool\" in jeweils einzelne Buchstaben aus. "
   ]
  },
  {
   "cell_type": "code",
   "execution_count": 8,
   "metadata": {},
   "outputs": [
    {
     "name": "stdout",
     "output_type": "stream",
     "text": [
      "H\n",
      "a\n",
      "c\n",
      "k\n",
      "e\n",
      "r\n",
      "s\n",
      "c\n",
      "h\n",
      "o\n",
      "o\n",
      "l\n"
     ]
    }
   ],
   "source": []
  },
  {
   "attachments": {},
   "cell_type": "markdown",
   "metadata": {},
   "source": [
    "Aufgabe 9: Schreibe eine for-Schleife, die alle geraden Zahlen von 1 bis 10 ausgibt. Überlege dir wenn möglich mehrere Lösungsansätze.\n",
    "\n",
    "Hinweis: Größe der Iterationsschritte ändern, modulo, Addition, ..."
   ]
  },
  {
   "cell_type": "code",
   "execution_count": 16,
   "metadata": {},
   "outputs": [
    {
     "name": "stdout",
     "output_type": "stream",
     "text": [
      "2\n",
      "4\n",
      "6\n",
      "8\n",
      "10\n"
     ]
    }
   ],
   "source": []
  },
  {
   "attachments": {},
   "cell_type": "markdown",
   "metadata": {},
   "source": [
    "Aufgabe 10: Schreibe eine for-Schleife, die einen Buchstaben oder ein Satzzeichen nach dem folgenden Schema ausgibt:\n",
    "\n",
    "A $\\newline$\n",
    "AA $\\newline$\n",
    "AAA $\\newline$\n",
    "AAAA $\\newline$\n",
    "AAAAA $\\newline$\n",
    "\n",
    "Zusatz: Drucke ein Tannenbaummuster mit einem beliebigen Zeichen."
   ]
  },
  {
   "cell_type": "code",
   "execution_count": 17,
   "metadata": {},
   "outputs": [
    {
     "name": "stdout",
     "output_type": "stream",
     "text": [
      "*\n",
      "**\n",
      "***\n",
      "****\n",
      "*****\n"
     ]
    }
   ],
   "source": []
  },
  {
   "attachments": {},
   "cell_type": "markdown",
   "metadata": {},
   "source": [
    "Aufgabe 11: Schreibe eine for-Schleife, die die Anzahl der Vokale in einem Wort zählt.\n",
    "\n",
    "Hinweis: Achte auf Groß- und Kleinschreibung, denn \"A\" $\\neq$ \"a\"."
   ]
  },
  {
   "cell_type": "code",
   "execution_count": null,
   "metadata": {},
   "outputs": [],
   "source": [
    "\n"
   ]
  },
  {
   "attachments": {},
   "cell_type": "markdown",
   "metadata": {},
   "source": [
    "### $$\\textbf{while-Schleifen}$$\n",
    "<hr>"
   ]
  },
  {
   "attachments": {},
   "cell_type": "markdown",
   "metadata": {},
   "source": [
    "* Die while-Schleife wird verwendet, um Code so lange zu wiederholen, wie eine bestimmte Bedingung erfüllt ist.\n",
    "* Syntax:\n",
    "  **while bedingung:**"
   ]
  },
  {
   "cell_type": "code",
   "execution_count": null,
   "metadata": {},
   "outputs": [],
   "source": [
    "#Beispiel:\n",
    "zahl = 1\n",
    "while zahl <= 5:\n",
    "    print(zahl)\n",
    "    zahl += 1\n",
    "# Ausgabe: 1, 2, 3, 4, 5"
   ]
  },
  {
   "cell_type": "markdown",
   "metadata": {},
   "source": [
    "Nach jedem Durchlauf wird die Hilfsvariable (Zählvariable) zahl um 1 erhöht (inkrementiert). Achtung! Es kann leicht passieren, dass man Bedingungen konstruiert, die niemals erfüllt werden. Dann landet man in einer Endlosschleife!"
   ]
  },
  {
   "attachments": {},
   "cell_type": "markdown",
   "metadata": {},
   "source": [
    "Aufgabe 12:\n",
    "Schreibe eine while-Schleife, die die Quersumme einer gegebenen Zahl berechnet und ausgibt.\n",
    "\n",
    "Hinweis zur Quersumme: Bsp.) $zahl = 987654 \\rightarrow Quersumme(zahl) = 9+8+7+6+5+4=39$\n",
    "\n",
    "Um die letzte Stelle einer Zahl zu erhalten können wir den Modulooperator ($zahl \\% 10$) verwenden. Danach können wir die letzte Stelle mittels Integerdivision entfernen ($zahl//10$)."
   ]
  },
  {
   "cell_type": "code",
   "execution_count": null,
   "metadata": {},
   "outputs": [],
   "source": [
    "\n"
   ]
  },
  {
   "attachments": {},
   "cell_type": "markdown",
   "metadata": {},
   "source": [
    "Aufgabe 13:\n",
    "Schreibe eine while-Schleife, die den Benutzer nach einem Passwort fragt und ihm so lange eine Nachricht ausgibt, bis er das richtige Passwort eingibt.\n",
    "\n",
    "Hinweis: Prüfen auf Gleichheit/Ungleichheit mit == bzw. !="
   ]
  },
  {
   "cell_type": "code",
   "execution_count": null,
   "metadata": {},
   "outputs": [],
   "source": []
  },
  {
   "attachments": {},
   "cell_type": "markdown",
   "metadata": {},
   "source": [
    "Aufgabe 14:\n",
    "Schreibe eine while-Schleife, die einen Countdown von 10 bis 1 ausgibt. "
   ]
  },
  {
   "cell_type": "code",
   "execution_count": 22,
   "metadata": {},
   "outputs": [
    {
     "name": "stdout",
     "output_type": "stream",
     "text": [
      "10\n",
      "9\n",
      "8\n",
      "7\n",
      "6\n",
      "5\n",
      "4\n",
      "3\n",
      "2\n",
      "1\n",
      "Start!\n"
     ]
    }
   ],
   "source": []
  },
  {
   "attachments": {},
   "cell_type": "markdown",
   "metadata": {},
   "source": [
    "### $$\\textbf{break und continue}$$\n",
    "<hr>"
   ]
  },
  {
   "attachments": {},
   "cell_type": "markdown",
   "metadata": {},
   "source": [
    "* \"Break\" kann verwendet werden, um eine Schleife vorzeitig zu beenden\n",
    "* \"Continue\" wird genutzt, um den restlichen Code in einem Schleifendurchlauf zu überspringen und mit dem nächsten Durchlauf fortzufahren"
   ]
  },
  {
   "attachments": {},
   "cell_type": "markdown",
   "metadata": {},
   "source": [
    " * Beispiel für \"Break\""
   ]
  },
  {
   "cell_type": "code",
   "execution_count": null,
   "metadata": {},
   "outputs": [],
   "source": [
    "for zahl in range(1, 6):\n",
    "    if zahl == 3:\n",
    "        break\n",
    "    print(zahl)\n",
    "# Ausgabe: 1, 2\n"
   ]
  },
  {
   "attachments": {},
   "cell_type": "markdown",
   "metadata": {},
   "source": [
    "* Beispiel für \"Continue\""
   ]
  },
  {
   "cell_type": "code",
   "execution_count": null,
   "metadata": {},
   "outputs": [],
   "source": [
    "for zahl in range(1, 6):\n",
    "    if zahl == 3:\n",
    "        continue\n",
    "    print(zahl)\n",
    "# Ausgabe: 1, 2, 4, 5\n"
   ]
  },
  {
   "attachments": {},
   "cell_type": "markdown",
   "metadata": {},
   "source": [
    "Aufgabe 15:\n",
    "Schreibe ein Programm, das den Benutzer Zahlen eingeben lässt. Die Eingabe wird solange wiederholt, bis der Benutzer \"fertig\" eingibt. Das Programm soll dann die Summe aller eingegebenen geraden Zahlen ausgeben.\n",
    "\n",
    "Hinweis: Achte erneut darauf, dass Nutzereingaben über input() als strings aufgefasst werden und für den Fall, dass sie integer (Ganzzahlen) sein sollen erst in solche gecasted werden müssen."
   ]
  },
  {
   "cell_type": "code",
   "execution_count": 23,
   "metadata": {},
   "outputs": [
    {
     "name": "stdout",
     "output_type": "stream",
     "text": [
      "Die Summe der geraden Zahlen ist: 20\n"
     ]
    }
   ],
   "source": [
    "\n"
   ]
  },
  {
   "attachments": {},
   "cell_type": "markdown",
   "metadata": {
    "slideshow": {
     "slide_type": "slide"
    }
   },
   "source": [
    "### $$\\textbf{List comprehension}$$\n",
    "<hr>"
   ]
  },
  {
   "attachments": {},
   "cell_type": "markdown",
   "metadata": {
    "slideshow": {
     "slide_type": "fragment"
    }
   },
   "source": [
    "* Die List Comprehension ist eine Möglichkeit, um Listen auf eine kompakte Weise zu erstellen oder zu transformieren\n",
    "    * Sie ermöglicht uns, in einer einzigen Zeile Code komplexe Schleifen und Bedingungen zu kombinieren, um Listen zu erzeugen.\n",
    "    * List comprehensions sind eine Besonderheit von Python und sind Schleifen i.d.R. vorzuziehen\n",
    "* Die Syntax von List Comprehension sieht oft folgendermaßen aus: \n",
    "    ``` \n",
    "    ausdruck for element in sequence if bedingung\n",
    "    ``` \n",
    "* Der **ausdruck** ist der Wert oder die Berechnung, die in die neue Liste aufgenommen werden soll.\n",
    "* Das **element** steht für jedes Element in der \"sequence\", über die wir iterieren möchten.\n",
    "* Die **bedingung** ist optional und ermöglicht es uns, nur bestimmte Elemente basierend auf einer Bedingung in die neue Liste aufzunehmen.\n",
    "\n",
    "* List comprehensions können komplexer werden für den Fall, dass es mehrere Bedingungen/Verzweigungen gibt bzw. list comprehensions innerhalb von list comprehensions (nested) vorliegen.\n",
    "\n",
    "Lass dich nicht irritieren. Wenn du das nicht auf Anhieb verstehst ist das ganz normal. Mit etwas Übung fühlt sich das ganze dann Schritt für Schritt natürlicher an."
   ]
  },
  {
   "cell_type": "code",
   "execution_count": 25,
   "metadata": {},
   "outputs": [
    {
     "name": "stdout",
     "output_type": "stream",
     "text": [
      "[1, 2, 3, 4, 5, 6, 7, 8, 9, 10]\n"
     ]
    }
   ],
   "source": [
    "# Beispiel: Zahen von 1 bis 10 in einer Liste\n",
    "x = [zahl for zahl in range(1,11)] \n",
    "print(x)"
   ]
  },
  {
   "cell_type": "code",
   "execution_count": 26,
   "metadata": {},
   "outputs": [
    {
     "name": "stdout",
     "output_type": "stream",
     "text": [
      "[1, 3, 5, 7, 9]\n"
     ]
    }
   ],
   "source": [
    "# Beispiel: Alle ungeraden Zahlen von 1 bis 10 \n",
    "x = [zahl for zahl in range(1,11) if zahl % 2 == 1]\n",
    "print(x)"
   ]
  },
  {
   "attachments": {},
   "cell_type": "markdown",
   "metadata": {},
   "source": [
    "Aufgabe 16: \n",
    "Erstelle eine Liste, die die Quadratzahlen von 1 bis 10 enthält, indem du List Comprehension verwendest."
   ]
  },
  {
   "cell_type": "code",
   "execution_count": null,
   "metadata": {},
   "outputs": [],
   "source": [
    "\n"
   ]
  },
  {
   "attachments": {},
   "cell_type": "markdown",
   "metadata": {},
   "source": [
    "Aufgabe 17:\n",
    "Erstelle eine Liste der geraden Zahlen von 1 bis 20, indem du eine List Comprehension verwendest."
   ]
  },
  {
   "cell_type": "code",
   "execution_count": null,
   "metadata": {},
   "outputs": [],
   "source": [
    "\n"
   ]
  },
  {
   "attachments": {},
   "cell_type": "markdown",
   "metadata": {},
   "source": [
    "Aufgabe 18:\n",
    "Erstelle eine neue Liste, in der alle Vorkommen eines bestimmten Elements in einer gegebenen Liste zu einem anderen Element geändert werden.\n",
    "\n",
    "z.B. \n",
    "```python\n",
    "gegeben = [\"blau\", \"grün\",\"blau\",\"rot\"] \n",
    "```\n",
    "$\\rightarrow $ Ändere alle Vorkommen von \"blau\" zu \"gelb\". \n"
   ]
  },
  {
   "cell_type": "code",
   "execution_count": null,
   "metadata": {},
   "outputs": [],
   "source": [
    "\n"
   ]
  },
  {
   "attachments": {},
   "cell_type": "markdown",
   "metadata": {},
   "source": [
    "## $$\\textbf{Funktionen}$$\n",
    "<hr>"
   ]
  },
  {
   "attachments": {},
   "cell_type": "markdown",
   "metadata": {},
   "source": [
    "* Funktionen sind Codeblöcke, die über den Aufruf des Funktionsnamens verwendet werden können, um bestimmte Aufgaben zu erledigen\n",
    "* Funktionen nehmen Eingaben entgegen, führen Aktionen aus und können falls gewünscht Ergebnisse zurückgeben oder ausgeben (z.B. print)\n",
    "* Wir können Funktionen selbst erstellen, indem wir unseren eigenen Code schreiben\n",
    "* Eine Funktion hat normalerweise einen Namen, der beschreibt, was sie tut\n",
    "* Die Syntax zum Definieren einer Funktion ist:\n",
    "```python\n",
    "def funktion_name(parameter):\n",
    "    # Hier kommt der Code, der ausgeführt wird\n",
    "    return ergebnis \n",
    "```"
   ]
  },
  {
   "attachments": {},
   "cell_type": "markdown",
   "metadata": {},
   "source": [
    "* Der \"funktionsname\" ist der Name der Funktion\n",
    "    * Es sollte einen Namen haben, der beschreibt, was die Funktion tut\n",
    "* Der \"parameter\" ist eine Variable, die der Funktion übergeben wird und von der Funktion verwendet wird, um ihre Aufgabe auszuführen.\n",
    "    * Es können beliebig viele Parameter übergeben werden.\n",
    "* Der \"Code\" innerhalb der Funktion sind die Anweisungen oder Aktionen, die ausgeführt werden, um das gewünschte Ergebnis zu erzielen\n",
    "* Das \"ergebnis\" ist der Wert oder das Resultat, das von der Funktion zurückgegeben (\"return\") wird, wenn sie ihre Aufgabe abgeschlossen hat\n",
    "    * \"return\" ist nicht zwangsläufig erforderlich, ist aber sinnvoll, wenn du mit dem in der Funktion berechneten Rückgabewert weiterarbeiten möchtest.\n"
   ]
  },
  {
   "attachments": {},
   "cell_type": "markdown",
   "metadata": {},
   "source": [
    "Beispiel 1: Eine Funktion, die zwei Zahlen addiert und das Ergebnis zurückgibt.\n",
    "\n",
    "```python\n",
    "def addiere(zahl1, zahl2):\n",
    "    ergebnis = zahl1 + zahl2\n",
    "    return ergebnis\n",
    "\n",
    "summe = addiere(3, 5)\n",
    "# summe enthält den Wert 8\n",
    "```"
   ]
  },
  {
   "attachments": {},
   "cell_type": "markdown",
   "metadata": {},
   "source": [
    "Beispiel 2: Eine Funktion, die überprüft, ob eine Zahl gerade ist oder nicht und das Ergebnis zurückgibt.\n",
    "```python \n",
    "def ist_gerade(zahl):\n",
    "    if zahl % 2 == 0:\n",
    "        return True\n",
    "    else:\n",
    "        return False\n",
    "\n",
    "ergebnis = ist_gerade(7)\n",
    "# ergebnis enthält den Wert False, da 7 ungerade ist\n",
    "```"
   ]
  },
  {
   "attachments": {},
   "cell_type": "markdown",
   "metadata": {},
   "source": [
    "Aufgabe 19:\n",
    "Schreibe eine Funktion groesstes_element(liste), die eine Liste von Zahlen als Argument erhält und das größte Element in der Liste zurückgibt."
   ]
  },
  {
   "cell_type": "code",
   "execution_count": null,
   "metadata": {},
   "outputs": [],
   "source": [
    "\n"
   ]
  },
  {
   "attachments": {},
   "cell_type": "markdown",
   "metadata": {},
   "source": [
    "### $$\\textbf{Wofür sind Funktionen sinnvoll?}$$\n",
    "<hr>"
   ]
  },
  {
   "attachments": {},
   "cell_type": "markdown",
   "metadata": {},
   "source": [
    "* Funktionen sind nützlich, um Code zu organisieren, in verschiedenen Kontexten wiederzuverwenden und Aufgaben in kleinere Teile aufzuteilen\n",
    "* Wenn wir eine Funktion erstellt haben, können wir sie immer wieder aufrufen, indem wir ihren Namen verwenden und die erforderlichen Eingaben übergeben\n",
    "* Es gibt auch vordefinierte Funktionen in Python, wie zum Beispiel print(), die bereits vorhanden sind und uns bei bestimmten Aufgaben helfen. \n",
    "\n",
    "In der Praxis wäre es viel zu mühsam (und ineffizient) immer den gesamten Code, den man verwendet selbst zu schreiben. Im weiteren Verlauf des Kurses werden wir euch zeigen, wie man fremden Code importieren und verwenden kann.\n",
    "\n",
    "Normalerweise gehört zu einer Funktion auch stets eine kurze Erklärung, was sie macht und was die Parameter sein sollen, die ihr übergeben werden.\n",
    "https://peps.python.org/pep-0287/\n",
    "\n",
    "Falls ihr Zeit und Lust habt gibt es noch mehr zu erforschen z.B. type-hinting, was sehr nützlich sein kann, wenn es darum geht seine Funktionen robuster und weniger fehleranfällig zu machen."
   ]
  },
  {
   "attachments": {},
   "cell_type": "markdown",
   "metadata": {
    "slideshow": {
     "slide_type": "slide"
    }
   },
   "source": [
    "### $$\\textbf{Rekursion}$$\n",
    "<hr>  "
   ]
  },
  {
   "attachments": {},
   "cell_type": "markdown",
   "metadata": {},
   "source": [
    "* Rekursion ist eine Technik, bei der eine Funktion sich selbst aufruft, um eine bestimmte Aufgabe zu erledigen\n",
    "* Rekursion erfordert eine Basisbedingung, die angibt, wann die Funktion aufhört, sich selbst aufzurufen (Problem wird auf eine Art Basisproblem reduziert)\n",
    "    * Die Basisbedingung ist wichtig, damit die Funktion nicht unendlich oft aufgerufen wird\n",
    "* Rekursion kann verwendet werden, um komplexe Probleme in kleinere, leichter lösbare Teile aufzuteilen\n",
    "* Es ist wichtig, die Rekursion zu verstehen, da sie in vielen Bereichen der Informatik, wie z.B. Algorithmen und Datenstrukturen, eine wichtige Rolle spielt"
   ]
  },
  {
   "attachments": {},
   "cell_type": "markdown",
   "metadata": {},
   "source": [
    "Beispiel: \n",
    "* Die Fibonacci-Folge ist eine Sequenz von Zahlen, bei der jede Zahl die Summe der beiden vorherigen Zahlen ist \n",
    "* Um die Fibonacci-Folge mit Rekursion zu berechnen, verwenden wir die Eigenschaft, dass die n-te Fibonacci-Zahl die Summe der (n-1)-ten und (n-2)-ten Fibonacci-Zahl ist\n",
    "* Die Basisbedingung ist, dass die ersten beiden Fibonacci-Zahlen 0 und 1 sind.\n",
    "* Hier ist der Python-Code, der die Fibonacci-Folge mit Rekursion berechnet:\n",
    "```python\n",
    "def fibonacci(n):\n",
    "    if n == 0: #Basisfall\n",
    "        return 0\n",
    "    elif n == 1:\n",
    "        return 1\n",
    "    else:\n",
    "        return fibonacci(n - 1) + fibonacci(n - 2)\n",
    "\n",
    "# Die ersten 10 Fibonacci-Zahlen berechnen und ausgeben\n",
    "for i in range(10):\n",
    "    zahl = fibonacci(i)\n",
    "    print(zahl)\n",
    "```"
   ]
  },
  {
   "attachments": {},
   "cell_type": "markdown",
   "metadata": {},
   "source": [
    "Aufgabe: Schreibe eine Funktion, die die Fakultät einer Zahl berechnet. Einmal iterativ und einmal rekursiv.\n",
    "\n",
    "Beispiel:\n",
    "\n",
    "$0! = 1$\n",
    "\n",
    "$1! = 1$\n",
    "\n",
    "$2! = 2 \\cdot 1! = 2$\n",
    "\n",
    "$3! = 3 \\cdot 2! = 3 \\cdot 2 \\cdot 1! = 6$\n",
    "\n",
    "$4! = 4 \\cdot 3! = 4 \\cdot 3 \\cdot 2! = 4 \\cdot 3 \\cdot 2 \\cdot 1! = 24$\n",
    "\n",
    "Tipp:\n",
    "\n",
    "$n! = n \\cdot (n-1)! = n \\cdot (n-1) \\cdot (n-2)! = n \\cdot (n-1) \\cdot ... \\cdot 1$\n",
    "\n",
    "..."
   ]
  },
  {
   "cell_type": "code",
   "execution_count": null,
   "metadata": {},
   "outputs": [],
   "source": [
    "def fak_rec(n):\n",
    "    if n == 0:\n",
    "        return 1\n",
    "    else:\n",
    "        return n * fak_rec(n-1)\n",
    "    \n",
    "def fak_iter(n):\n",
    "    fak = 1\n",
    "    for i in range(1, n+1):\n",
    "        fak *= i\n",
    "    return fak"
   ]
  },
  {
   "attachments": {},
   "cell_type": "markdown",
   "metadata": {},
   "source": [
    "Aufgabe 20: Berechne die Summe aller Zahlen von 1 bis 100 einmal rekursiv und einmal iterativ (mit einer Schleife). Schreibe dafür zwei Funktionen. Gibt es vielleicht eine noch einfachere Möglichkeit? "
   ]
  },
  {
   "cell_type": "code",
   "execution_count": null,
   "metadata": {},
   "outputs": [],
   "source": []
  },
  {
   "attachments": {},
   "cell_type": "markdown",
   "metadata": {},
   "source": [
    "Aufgabe 21: Eine Möglichkeit, den grössten gemeinsamen Teiler (ggT) zweier natürlicher Zahlen a\n",
    "und b zu berechnen, ist die folgende:\n",
    "* Falls a > b ist, subtrahiere b von a und berechne ggT (a–b, b) anstelle von ggT(a, b).\n",
    "* Falls b > a ist, subtrahiere a von b und berechne ggT (a, b–a) anstelle von ggT(a, b).\n",
    "* Falls a = b ist, gilt ggT (a, b) = a = b und man ist fertig.\n",
    "1. Überlege dir, warum dieser Algorithmus korrekt ist.\n",
    "2. Du hast sicher bemerkt, dass auch dieser Algorithmus rekursiv ist. Welches ist die\n",
    "Rekursionsbasis, welches die Rekursionsvorschrift?\n",
    "3. Schreibe ein rekursives Programm in Pseudocode und anschliessend in deiner\n",
    "Programmiersprache. Teste dein Programm an einigen (auch speziellen) Beispielen."
   ]
  },
  {
   "cell_type": "code",
   "execution_count": null,
   "metadata": {},
   "outputs": [],
   "source": []
  },
  {
   "attachments": {},
   "cell_type": "markdown",
   "metadata": {},
   "source": [
    "Aufgabe 22: Die Umkehrung einer Zeichenkette ist eine neue Zeichenkette, in der die Buchstaben der ursprünglichen Zeichenkette in umgekehrter Reihenfolge stehen. Die Umkehrung der Zeichenkette \"Hallo\" ist zum Beispiel \"olleH\". Schreibe eine rekursive Funktion, die einen beliebigen String umdrehen kann."
   ]
  },
  {
   "cell_type": "code",
   "execution_count": 11,
   "metadata": {},
   "outputs": [
    {
     "name": "stdout",
     "output_type": "stream",
     "text": [
      "ollaH\n"
     ]
    }
   ],
   "source": []
  },
  {
   "attachments": {},
   "cell_type": "markdown",
   "metadata": {},
   "source": [
    "Aufgabe 23: \n",
    "Die Primfaktorzerlegung ist ein Verfahren, bei dem eine natürliche Zahl in ihre Primfaktoren zerlegt wird. Primzahlen sind natürliche Zahlen größer als 1, die nur durch 1 und sich selbst teilbar sind.\n",
    "\n",
    "Um eine Primzahl in ihre Primfaktoren zu zerlegen, kann man folgende Schritte verwenden:\n",
    "\n",
    "1. Beginne mit der kleinsten Primzahl, 2.\n",
    "2. Teilt die Zahl durch 2, solange die Zahl durch 2 teilbar ist.\n",
    "3. Wenn die Zahl nicht mehr durch 2 teilbar ist, gehe zur nächsten Primzahl über (3).\n",
    "4. Wiederhole Schritte 2 und 3, bis die Zahl nicht mehr durch eine Primzahl teilbar ist.\n",
    "\n",
    "Die erhaltenen Primzahlen sind die Primfaktoren der Zahl.\n",
    "\n",
    "Zum Beispiel:\n",
    "\n",
    "Die Zahl 12 kann wie folgt in ihre Primfaktoren zerlegt werden:\n",
    "\n",
    "12 = 2 * 2 * 3\n",
    "\n",
    "Die Primfaktoren von 12 sind 2 und 3.\n",
    "\n",
    "Schreibe eine Python-Funktion, die die Primzahlzerlegung einer Zahl berechnet."
   ]
  },
  {
   "cell_type": "code",
   "execution_count": null,
   "metadata": {},
   "outputs": [],
   "source": []
  },
  {
   "attachments": {},
   "cell_type": "markdown",
   "metadata": {},
   "source": [
    "### $$\\textbf{Danke für eure Aufmerksamkeit!}$$\n",
    "<hr>  "
   ]
  }
 ],
 "metadata": {
  "celltoolbar": "Slideshow",
  "kernelspec": {
   "display_name": "Python 3 (ipykernel)",
   "language": "python",
   "name": "python3"
  },
  "language_info": {
   "codemirror_mode": {
    "name": "ipython",
    "version": 3
   },
   "file_extension": ".py",
   "mimetype": "text/x-python",
   "name": "python",
   "nbconvert_exporter": "python",
   "pygments_lexer": "ipython3",
   "version": "3.10.6"
  }
 },
 "nbformat": 4,
 "nbformat_minor": 1
}
