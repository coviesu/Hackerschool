{
 "cells": [
  {
   "attachments": {},
   "cell_type": "markdown",
   "metadata": {
    "slideshow": {
     "slide_type": "skip"
    }
   },
   "source": [
    "$\n",
    "\\newcommand{\\nc}{\\newcommand} \n",
    "\\nc{\\t}{\\text}\n",
    "\\nc{\\tb}{\\textbf}\n",
    "\\nc{\\ti}{\\textit}\n",
    "$"
   ]
  },
  {
   "attachments": {},
   "cell_type": "markdown",
   "metadata": {
    "slideshow": {
     "slide_type": "slide"
    }
   },
   "source": [
    "# $$\\textbf{Hackerschool } $$\n",
    "<img src = \"https://vapassion.de/wp-content/uploads/2020/11/Acc_Logo_White_Purple_RGB_Dark1.png\" alt=\"image\" width =\"2000\">\n",
    "\n",
    "\n",
    "#### $$\\text{Tag 4}$$\n",
    "#### $$\\text{Claudia Oviesu und Leon Plumpe}$$\n"
   ]
  },
  {
   "attachments": {},
   "cell_type": "markdown",
   "metadata": {
    "slideshow": {
     "slide_type": "slide"
    }
   },
   "source": [
    "## $$\\textbf{Allgemeiner Kursüberblick}$$\n",
    "<hr>"
   ]
  },
  {
   "attachments": {},
   "cell_type": "markdown",
   "metadata": {},
   "source": [
    "* Wiederholung Tag 3\n",
    "    * Übungen "
   ]
  },
  {
   "cell_type": "markdown",
   "metadata": {},
   "source": [
    "* Einführung in die objektorientierte Programmierung\n",
    "    * Klassen\n",
    "    * Attribute"
   ]
  },
  {
   "attachments": {},
   "cell_type": "markdown",
   "metadata": {},
   "source": [
    " * Instanzmethoden\n",
    "    * Zweck & Anwendung\n",
    "    \n",
    "    "
   ]
  },
  {
   "attachments": {},
   "cell_type": "markdown",
   "metadata": {
    "slideshow": {
     "slide_type": "fragment"
    }
   },
   "source": [
    "* Vererbung\n",
    "    * Grundprinzip\n",
    "    * Wofür ist Vererbung sinnvoll?\n",
    "    "
   ]
  },
  {
   "attachments": {},
   "cell_type": "markdown",
   "metadata": {},
   "source": [
    "* Lambda-Funktion\n",
    "    * Was ist eine Lambda-Funktion?\n",
    "    * Wofür sind Lambda-Funktionen sinnvoll?"
   ]
  },
  {
   "attachments": {},
   "cell_type": "markdown",
   "metadata": {},
   "source": [
    "* Iterator/Generator\n",
    "    * Was ist ein Iterator/Generator?"
   ]
  },
  {
   "attachments": {},
   "cell_type": "markdown",
   "metadata": {},
   "source": [
    "* Fortgeschrittene Datenstrukturen\n",
    "    * Stacks\n",
    "    * Queues"
   ]
  },
  {
   "cell_type": "markdown",
   "metadata": {},
   "source": [
    "* Sets\n",
    "    * Was sind Sets?\n",
    "    * Wofür sind Sets sinnvoll?"
   ]
  },
  {
   "attachments": {},
   "cell_type": "markdown",
   "metadata": {
    "slideshow": {
     "slide_type": "slide"
    }
   },
   "source": [
    "## $$\\textbf{Wiederholung Tag 3}$$\n",
    "<hr>"
   ]
  },
  {
   "attachments": {},
   "cell_type": "markdown",
   "metadata": {
    "slideshow": {
     "slide_type": "fragment"
    }
   },
   "source": [
    "* Damit ihr das, was wir euch am Tag zuvor beigebracht haben, nicht so schnell vergesst, haben wir euch hier ein paar Aufgaben zusammengestellt\n",
    "<br>\n",
    "<br>\n"
   ]
  },
  {
   "cell_type": "markdown",
   "metadata": {},
   "source": [
    "### $$\\textbf{Übungen}$$\n",
    "<hr>"
   ]
  },
  {
   "cell_type": "markdown",
   "metadata": {},
   "source": [
    "Aufgabe 1: Schreibe in Stichpunkten auf, wann und warum die Organisation von Code in Modulen sinnvoll ist. "
   ]
  },
  {
   "cell_type": "markdown",
   "metadata": {},
   "source": []
  },
  {
   "cell_type": "markdown",
   "metadata": {},
   "source": [
    "Aufgabe 2: Recherchiere über das Modul numpy und importiere es mit einem kürzeren Alias (np). Rufe eine beliebige Funktion auf und beschreibe, was sie macht. \n",
    "\n",
    "* Eine Funktion aus einem importiereten Modul ruft man mit folgendem Code auf: \n",
    "\n",
    "```python \n",
    "modulname.funktionsname() \n",
    "\n",
    "bzw.\n",
    "alias.funktionsname()\n",
    "```\n",
    "\n",
    "Hinweis: \n",
    "\n",
    "https://docs.python.org/3/tutorial/modules.html\n",
    "\n",
    "https://numpy.org/doc/stable/user/absolute_beginners.html"
   ]
  },
  {
   "cell_type": "code",
   "execution_count": null,
   "metadata": {},
   "outputs": [],
   "source": []
  },
  {
   "cell_type": "markdown",
   "metadata": {},
   "source": [
    "Aufgabe 3: Beschreibe stichpunktartig wozu man ```map()``` verwenden kann.  "
   ]
  },
  {
   "cell_type": "markdown",
   "metadata": {},
   "source": []
  },
  {
   "cell_type": "markdown",
   "metadata": {},
   "source": [
    "Aufgabe 4: \n",
    "1. Erstelle eine Liste ```x```, die den Zahlenbereich von $-4$ bis $4$ enthält. Genauer genommen sollen in der Liste $800$ Einträge jeweils im Abstand von $0.01$ enthalten sein. Also: [-4, -3.99, -3.98, ..., 4]\n",
    "2. Schreibe eine Funktion ```quadrieren```, die einen Wert übergeben bekommt, diesen quadriert und zurückgibt.\n",
    "3. Verwende ```map``` um alle Werte aus der Liste zu quadrieren und speichere die Resultate in der Liste ```y```."
   ]
  },
  {
   "cell_type": "code",
   "execution_count": null,
   "metadata": {},
   "outputs": [],
   "source": []
  },
  {
   "cell_type": "markdown",
   "metadata": {},
   "source": [
    "Aufgabe 5 (Zusatz): Sie dir den folgenden Codeblock an. Geh auf die Website von matplotlib (documentation) und informiere dich über die ```plot```-Funktion. Füge Achsenbeschriftungen und einen Titel hinzu. Ändere die Farbe und markiere das Minimum der Funktion mit einem Punkt. (Mit diesem Modul kann alles Mögliche bis ins kleinste Detail anapssen. Versuche deine Lösung zu Beginn auf ein Minimum an Komplexität zu beschränken.)"
   ]
  },
  {
   "cell_type": "code",
   "execution_count": null,
   "metadata": {},
   "outputs": [
    {
     "data": {
      "image/png": "[encoded data removed]",
      "text/plain": [
       "<Figure size 640x480 with 1 Axes>"
      ]
     },
     "metadata": {},
     "output_type": "display_data"
    }
   ],
   "source": [
    "# Codeblock bleibt erhalten (gehört nicht zur Lösung)\n",
    "import matplotlib.pyplot as plt\n",
    "plt.plot(x,y) \n",
    "plt.grid()"
   ]
  },
  {
   "cell_type": "code",
   "execution_count": null,
   "metadata": {},
   "outputs": [
    {
     "data": {
      "text/plain": [
       "Text(0.5, 1.0, '$y = x^2$')"
      ]
     },
     "metadata": {},
     "output_type": "display_data"
    },
    {
     "data": {
      "image/png": "[encoded data removed]",
      "text/plain": [
       "<Figure size 640x480 with 1 Axes>"
      ]
     },
     "metadata": {},
     "output_type": "display_data"
    }
   ],
   "source": []
  },
  {
   "cell_type": "markdown",
   "metadata": {},
   "source": [
    "Aufgabe 6(Zusatz): Informiere dich über numpy arrays und die Funktion ```np.linspace``` bzw. ```np.arange``` aus dem numpy module und versuche die Aufgabe ohne ```map``` zu lösen."
   ]
  },
  {
   "cell_type": "code",
   "execution_count": null,
   "metadata": {},
   "outputs": [
    {
     "data": {
      "text/plain": [
       "[<matplotlib.lines.Line2D at 0x259d9ed3f70>]"
      ]
     },
     "metadata": {},
     "output_type": "display_data"
    },
    {
     "data": {
      "image/png": "[encoded data removed]",
      "text/plain": [
       "<Figure size 640x480 with 1 Axes>"
      ]
     },
     "metadata": {},
     "output_type": "display_data"
    }
   ],
   "source": []
  },
  {
   "cell_type": "markdown",
   "metadata": {},
   "source": [
    "Aufgabe 7: Erstelle eine Liste ```zahlen```, die alle natürlichen Zahlen von 1 bis 50 enthält. Verwende ```filter```, um eine Liste mit allen Primzahlen aus ```zahlen``` zu erhalten. Eine Primzahl ist nur durch $1$ und sich selbst ohne Rest teilbar. Schreibe dafür eine Funktion ```ist_prim()```, die überprüft, ob eine Zahl eine Primzahl ist.\n",
    "\n",
    "Hinweis: Es gibt viele Wege (einigermaßen) effizient herauszufinden ob eine Zahl eine Primzahl ist. Ihr müsst eure Funktion nicht stark optimieren. Der naive Ansatz ist absolut ausreichend für diesen Fall. \n",
    "\n",
    "Zusatz: Wenn ihr interessiert seid, wie das ganze effizienter geht, dann schaut euch gern die Algorithmen an und versucht sie zu implementieren: https://de.wikipedia.org/wiki/Primzahltest"
   ]
  },
  {
   "cell_type": "code",
   "execution_count": null,
   "metadata": {},
   "outputs": [],
   "source": []
  },
  {
   "cell_type": "markdown",
   "metadata": {},
   "source": [
    "Aufgabe 8: Die Liste ```x``` enthält natürliche Zahlen zwischen $1$ und $6$. Speichere die Zahlen aus ```x``` und die zugehörigen Häufigkeiten in einem dictionary ab."
   ]
  },
  {
   "cell_type": "code",
   "execution_count": null,
   "metadata": {},
   "outputs": [
    {
     "name": "stdout",
     "output_type": "stream",
     "text": [
      "{1: 3, 2: 7, 5: 5, 3: 5, 4: 2, 6: 2}\n"
     ]
    }
   ],
   "source": [
    "x = [1,2,1,5,3,4,3,2,3,6,2,2,2,5,3,6,2,4,1,5,3,5,5,2]"
   ]
  },
  {
   "cell_type": "code",
   "execution_count": null,
   "metadata": {},
   "outputs": [
    {
     "name": "stdout",
     "output_type": "stream",
     "text": [
      "{1: 3, 2: 7, 5: 5, 3: 5, 4: 2, 6: 2}\n"
     ]
    }
   ],
   "source": []
  },
  {
   "cell_type": "markdown",
   "metadata": {},
   "source": [
    "Aufgabe 9 (Zusatz): Informiere dich über numpy arrays und deren Unterschiede zu Listen (Vor- und Nachteile)."
   ]
  },
  {
   "cell_type": "markdown",
   "metadata": {},
   "source": [
    "# $$\\textbf{Einstieg in die objektorientierte Programmierung}$$\n",
    "<hr>"
   ]
  },
  {
   "cell_type": "markdown",
   "metadata": {},
   "source": [
    "## $$\\textbf{Klassen}$$\n",
    "<hr>"
   ]
  },
  {
   "cell_type": "markdown",
   "metadata": {},
   "source": [
    "* Klassen in Python sind wie Baupläne oder Vorlagen für Objekte \n",
    "* Sie helfen uns, Dinge zu erstellen, die ähnliche Eigenschaften haben \n",
    "* Jedes Objekt, das aus einer Klasse erstellt wird, hat Eigenschaften (Variablen) und Verhaltensweisen (Methoden), die in der Klasse definiert sind\n",
    "* So können wir verschiedene Objekte mit ähnlichen Eigenschaften und Verhaltensweisen erstellen und sie verwenden, um verschiedene Aufgaben zu erledigen\n",
    "* Die Eigenschaften (Attribute) eines spezifischen Objekts (einer Instanz eines Objekts) werden über das keyword \"self\" gespeichert und darüber in Objektmethoden (Instanzmethoden) aufgerufen\n",
    "* Wir erstellen eine Instanz eines Objekts, indem wir den \"Konstruktor\" (init) aufrufen\n",
    "\n",
    "* Beispiel 1: Klasse für ein Haustier\n",
    "    ```python\n",
    "            class Haustier:\n",
    "            def __init__(self, name, alter, art): #Konstruktor\n",
    "                self.name = name #attribut\n",
    "                self.alter = alter #attribut\n",
    "                self.art = art #attribut\n",
    "\n",
    "            def vorstellen(self):\n",
    "                print(f\"Hallo, ich bin {self.name}, ein {self.alter}-jähriges {self.art}.\")\n",
    "\n",
    "        # Erstelle ein Haustier-Objekt\n",
    "        hund = Haustier(\"Bello\", 3, \"Hund\")\n",
    "        # Nutze die vorstellen-Methode des Haustier-Objekts\n",
    "        hund.vorstellen()\n",
    "        #Ausgabe: Hallo, ich bin Bello, ein 3-jähriger Hund.\n",
    "       \n",
    " \n"
   ]
  },
  {
   "cell_type": "markdown",
   "metadata": {},
   "source": [
    " * Beispiel 2: Klasse für einen Rechner:\n",
    " \n",
    "    ```python\n",
    "        class Rechner:\n",
    "            def addiere(self, zahl1, zahl2):\n",
    "                return zahl1 + zahl2\n",
    "\n",
    "            def multipliziere(self, zahl1, zahl2):\n",
    "                return zahl1 * zahl2\n",
    "\n",
    "            # Erstelle ein Rechner-Objekt\n",
    "            mein_rechner = Rechner()\n",
    "\n",
    "            # Nutze die Methoden des Rechner-Objekts\n",
    "            ergebnis_addition = mein_rechner.addiere(5, 3)\n",
    "            ergebnis_multiplikation = mein_rechner.multipliziere(4, 6)\n",
    "\n",
    "            print(\"Ergebnis der Addition:\", ergebnis_addition)\n",
    "            print(\"Ergebnis der Multiplikation:\", ergebnis_multiplikation)\n",
    "            '''Ausgabe: Ergebnis der Addition: 8\n",
    "               Ausgabe: Ergebnis der Multiplikation: 24'''\n",
    "    ```"
   ]
  },
  {
   "cell_type": "markdown",
   "metadata": {},
   "source": [
    "### $$\\textbf{Aufgaben}$$\n",
    "<hr>"
   ]
  },
  {
   "cell_type": "markdown",
   "metadata": {},
   "source": [
    "Aufgabe 10: Taschenrechner-Klasse\n",
    "Erstelle eine Klasse für einen einfachen Taschenrechner, der die Methoden addiere und subtrahiere enthält. Und löse ein paar einfache Rechenaufgaben damit. Wenn du Lust hast erweitere deinen Taschenrechner um sinnvolle Funktionen (Multiplikation, Division, Potenzen, Wurzeln, nützliche Konstanten, ...)."
   ]
  },
  {
   "cell_type": "code",
   "execution_count": null,
   "metadata": {},
   "outputs": [
    {
     "name": "stdout",
     "output_type": "stream",
     "text": [
      "Ergebnis der Addition: 8\n",
      "Ergebnis der Subtraktion: 6\n"
     ]
    }
   ],
   "source": []
  },
  {
   "cell_type": "markdown",
   "metadata": {},
   "source": [
    "Aufgabe 11: Schüler-Klasse\n",
    "\n",
    "Erstelle eine Klasse \"Schueler\", die die Eigenschaften name, alter und klasse hat und eine Methode \"vorstellen\", um sich selbst vorzustellen."
   ]
  },
  {
   "cell_type": "code",
   "execution_count": null,
   "metadata": {},
   "outputs": [],
   "source": [
    "\n"
   ]
  },
  {
   "cell_type": "markdown",
   "metadata": {},
   "source": [
    "Aufgabe 12: Auto-Klasse\n",
    "\n",
    "Erstelle eine Klasse \"Auto\", die die Eigenschaften Marke, Farbe und Geschwindigkeit hat und die Methoden \"beschleunigen\" und \"bremsen\", um die Geschwindigkeit zu ändern.\n",
    "\n",
    "Hinweis: Die Methode \"beschleunigen\" soll ausschließlich den Wert der Geschwindigkeit ändern und ist in diesem Fall nicht wörtlich als zeitliche Änderungsrate der Geschwindigkeit zu verstehen. Finde einen Weg mit negativen Werten umzugehen."
   ]
  },
  {
   "cell_type": "code",
   "execution_count": null,
   "metadata": {},
   "outputs": [],
   "source": []
  },
  {
   "cell_type": "markdown",
   "metadata": {},
   "source": [
    "Aufgabe 13: Hund-Klasse\n",
    "Erstelle eine Klasse für einen Hund, der die Eigenschaften name, alter und rasse hat und eine Methode bellen, um ein Bellen auszugeben."
   ]
  },
  {
   "cell_type": "code",
   "execution_count": null,
   "metadata": {},
   "outputs": [],
   "source": [
    "\n"
   ]
  },
  {
   "cell_type": "markdown",
   "metadata": {},
   "source": [
    "Aufgabe 14: Form-Klasse\n",
    "Erstelle eine Klasse für geometrische Formen, die die Methode berechne_umfang enthält. Erstelle dann ein Rechteck-Objekt und ein Kreis-Objekt und berechne ihren Umfang.\n",
    "\n",
    "Hinweis: Für die Kreiszahl $\\pi$ erhältst du eine sehr genaue Annäherung, wenn du ein Paket importierst:\n",
    "\n",
    "```python\n",
    "import numpy as np\n",
    "pi = np.pi\n",
    "print(pi) # 3.141592653589793\n",
    "```"
   ]
  },
  {
   "cell_type": "code",
   "execution_count": null,
   "metadata": {},
   "outputs": [],
   "source": [
    "\n"
   ]
  },
  {
   "cell_type": "markdown",
   "metadata": {},
   "source": [
    "## $$\\textbf{Attribute}$$\n",
    "<hr>"
   ]
  },
  {
   "cell_type": "markdown",
   "metadata": {},
   "source": [
    "* Attribute in Python sind wie Eigenschaften oder Merkmale von Dingen\n",
    "* Sie beschreiben, wie etwas ist oder was es kann\n",
    "* In Python können wir sie in Klassen verwenden, um Objekte mit verschiedenen Eigenschaften zu erstellen  (Instanzen der Objekte) und auf diese Eigenschaften zuzugreifen\n",
    "\n",
    "* Beispiel 1: Klasse für ein Auto mit Attributen:\n",
    "```python \n",
    "class Auto:\n",
    "    def __init__(self, marke, farbe):\n",
    "        self.marke = marke\n",
    "        self.farbe = farbe\n",
    "        self.geschwindigkeit = 0\n",
    "```"
   ]
  },
  {
   "cell_type": "markdown",
   "metadata": {},
   "source": [
    "### $$\\textbf{Aufgaben}$$\n",
    "<hr>"
   ]
  },
  {
   "cell_type": "markdown",
   "metadata": {},
   "source": [
    "Aufgabe 15: Erstelle ein Auto-Objekt mit Attributen und greife auf die Attribute des Auto-Objekts zu."
   ]
  },
  {
   "cell_type": "code",
   "execution_count": null,
   "metadata": {},
   "outputs": [],
   "source": []
  },
  {
   "cell_type": "markdown",
   "metadata": {},
   "source": [
    "Aufgabe 16:\n",
    "Erstelle eine Klasse für einen Schüler, der die Attribute name, alter und klasse hat. Erstelle dann ein Schüler-Objekt und gib seine Eigenschaften aus."
   ]
  },
  {
   "cell_type": "code",
   "execution_count": null,
   "metadata": {},
   "outputs": [],
   "source": []
  },
  {
   "cell_type": "markdown",
   "metadata": {},
   "source": [
    "Aufgabe 17: \n",
    "Erstelle eine Klasse für Obst, das die Attribute name, farbe und geschmack hat. Erstelle dann ein Obst-Objekt und gib seine Eigenschaften aus."
   ]
  },
  {
   "cell_type": "code",
   "execution_count": null,
   "metadata": {},
   "outputs": [
    {
     "name": "stdout",
     "output_type": "stream",
     "text": [
      "1\n",
      "2\n",
      "3\n",
      "4\n",
      "5\n"
     ]
    }
   ],
   "source": [
    "\n"
   ]
  },
  {
   "cell_type": "markdown",
   "metadata": {},
   "source": [
    "Aufgabe 18:\n",
    "Erstelle eine Klasse für Tiere, die die Attribute name, art und anzahl_beine hat. Erstelle dann ein Tier-Objekt und gib seine Eigenschaften aus."
   ]
  },
  {
   "cell_type": "code",
   "execution_count": null,
   "metadata": {},
   "outputs": [],
   "source": []
  },
  {
   "cell_type": "markdown",
   "metadata": {},
   "source": [
    "Aufgabe 19:\n",
    "Erstelle eine Klasse \"Haus\", die die Attribute farbe, anzahl_zimmer und groesse hat. Erstelle dann eine Instanz des Haus-Objekts und gib deren Eigenschaften aus."
   ]
  },
  {
   "cell_type": "code",
   "execution_count": null,
   "metadata": {},
   "outputs": [],
   "source": []
  },
  {
   "attachments": {},
   "cell_type": "markdown",
   "metadata": {},
   "source": [
    "## $$\\textbf{Instanzmethoden}$$\n",
    "<hr>"
   ]
  },
  {
   "cell_type": "markdown",
   "metadata": {},
   "source": [
    "### $$\\textbf{Was sind Instanzmethoden?}$$\n",
    "<hr>"
   ]
  },
  {
   "attachments": {},
   "cell_type": "markdown",
   "metadata": {},
   "source": [
    "Eine Instanzmethode ist eine Funktion, die in Objektorientierten Programmiersprachen wie Python, verwendet wird, um auf die Daten und das Verhalten eines bestimmten Objekts einer Klasse zuzugreifen oder sie zu manipulieren. \n",
    "Sie wird kann auf einer Instanz (ein konkretes Exemplar) einer Klasse aufgerufen werden. Die Instanzmethode kann auf die Attribute der Klasse zugreifen, um Operationen auf den Daten dieses Objekts auszuführen.\n",
    "\n",
    "* Instanzmethoden haben i.d.R. Zugriff auf die Instanzvariablen eines Objekts. Sie können diese Variablen lesen und ändern, um die Daten des Objekts zu manipulieren. In Python funktioniert dies über die selbstreferenz ```self```, die einer Instanzmethode übergeben werden kann. ```self``` verweist auf die konkrete Instanz, auf der die Methode aufgerufen wird. \n",
    "\n",
    "* Objektspezifische Operationen: Instanzmethoden können objektspezifische Operationen durchführen, die auf den Zustand und die Eigenschaften des Objekts abzielen. \n",
    "\n",
    "Nur mal so am Rande (Vererbung und Polymorphie): Instanzmethoden werden von Subklassen \"vererbt\" und können in diesen überschrieben werden (neue Methode mit demselben Namen), um das Verhalten anzupassen (Polymorphie). Dadurch können unterschiedliche Klassen gleichnamige Methoden haben, aber unterschiedliche Operationen ausführen, wenn die Methode aufgerufen wird."
   ]
  },
  {
   "cell_type": "markdown",
   "metadata": {},
   "source": [
    "\n",
    "Beispiele:\n",
    "\n",
    "* Stell dir vor, du hast ein Haustier namens \"Snow\" \n",
    "* Eine Instanzmethode in Python ist z.B. ein Trick, den Snow ausführen kann \n",
    "* Snow ist eine Instanz einer \"Haustier\" Klasse, und ein Beispiel für eine Instanzmethode wäre \"bring_den_ball()\"\n",
    "\n",
    "* Hier sind zwei Beispiele:\n",
    "\n",
    "    * Beispiel 1: **Füttern**\n",
    "\n",
    "        * Stell dir vor, du möchtest Snow füttern. Das wäre eine Instanzmethode namens ```feed()```\n",
    "        * Wenn du Snow fütterst, freut sich Snow.\n",
    "        ```python\n",
    "        class Haustier:\n",
    "            def __init__(self, name):\n",
    "                self.name = name\n",
    "                self.hungrig = True\n",
    "\n",
    "            def feed(self):\n",
    "                if self.hungrig:\n",
    "                    print(self.name + \" macht einen Freudentanz.\")\n",
    "                    self.hungrig = False\n",
    "                else:\n",
    "                    print(self.name + \" ist schon satt.\")\n",
    "\n",
    "        # Erstelle eine Instanz von Haustier namens Snow\n",
    "        snow = Haustier(\"Snow\")\n",
    "\n",
    "        # Füttere Snow\n",
    "        snow.feed()  # Snow macht glückliche Geräusche.\n",
    "\n",
    "        # Versuche nochmal zu füttern\n",
    "        snow.feed()  # Snow ist schon satt.\n",
    "        ```\n",
    "    \n",
    "    * Beispiel 2: **Spielen**\n",
    "\n",
    "        * Nun möchtest du mit Snow spielen\n",
    "            * Das könntest du mit einer Instanzmethode ```play()``` umsetzen.\n",
    "        * Wenn du mit Snow spielst, springt Snow aufgeregt herum\n",
    "        ```python\n",
    "                class Haustier:\n",
    "                    def __init__(self, name):\n",
    "                        self.name = name\n",
    "\n",
    "                    def feed(self):\n",
    "                        if self.hungrig:\n",
    "                            print(self.name + \" macht einen Freudentanz.\")\n",
    "                            self.hungrig = False\n",
    "                        else:\n",
    "                            print(self.name + \" ist schon satt.\")\n",
    "\n",
    "\n",
    "                    def play(self):\n",
    "                        print(self.name + \" springt aufgeregt herum.\")\n",
    "\n",
    "        # Erstelle eine Instanz von Haustier namens Snow\n",
    "        snow = Haustier(\"Snow\")\n",
    "\n",
    "        # Lass Snow spielen\n",
    "        snow.play()  # Snow springt aufgeregt herum.\n",
    "        ```\n",
    "\n",
    "        * In diesen Beispielen sind ```feed()``` und ```play()``` Instanzmethoden\n",
    "        * Du rufst sie auf, indem du den Variablennamen des Haustiers gefolgt von einem Punkt und dann den Methodennamen schreibst, z. B. snow.feed() oder snow.play()"
   ]
  },
  {
   "cell_type": "markdown",
   "metadata": {},
   "source": [
    "Aufgabe 20: Definiere eine Klasse \"Ticketautomat\", die mit folgenden Attributen initialisiert wird: Einnahmen (Liste), Wechselgeld (float)\n",
    "\n",
    "1. Implementiere eine Objektmethode, die den Kauf von Einzelfahrkarten, Monatstickets, ... ermöglicht. Dabei soll es möglich sein mit Karte bzw. mit Bargeld zu bezahlen (sofern genug Wechselgeld vorhanden ist). Zur Vereinfachung muss hier nicht betrachtet werden, ob das 100%-ig Wechselgeld passend ist. Zu Einnahmen soll über ```append()``` nach jedem Kauf der Preis des jeweiligen Tickets hinzugefügt werden. \n",
    "2. Implementiere eine Objektmethode, die einen Infotext bezüglich der Tarife ausgibt.\n",
    "3. Überlege dir weitere sinnvolle Attribute und Objektmethoden, die du verwenden kannst (z.B. Wechselgeld_auffuellen)\n",
    "\n",
    "Zusatz: Versuche die Wechselgeld-Problematik allgemeingültig zu lösen (d.h. betrachte den Fall, dass der Automat passendes Wechselgeld herausgeben können muss)."
   ]
  },
  {
   "cell_type": "code",
   "execution_count": 31,
   "metadata": {},
   "outputs": [],
   "source": [
    "   "
   ]
  },
  {
   "cell_type": "code",
   "execution_count": 45,
   "metadata": {},
   "outputs": [
    {
     "name": "stdout",
     "output_type": "stream",
     "text": [
      "Willkommen beim Ticketautomaten!\n",
      "Sie haben die Wahl zwischen folgenden Tickets:\n",
      "Einzelticket: 2.5€\n",
      "Tagesticket: 5.0€\n",
      "Wochenkarte: 20.0€\n",
      "Monatskarte: 60.0€\n"
     ]
    }
   ],
   "source": []
  },
  {
   "cell_type": "code",
   "execution_count": 46,
   "metadata": {},
   "outputs": [
    {
     "name": "stdout",
     "output_type": "stream",
     "text": [
      "Der Preis für das Monatskarte wurde auf 49€ geändert.\n",
      "Willkommen beim Ticketautomaten!\n",
      "Sie haben die Wahl zwischen folgenden Tickets:\n",
      "Einzelticket: 2.5€\n",
      "Tagesticket: 5.0€\n",
      "Wochenkarte: 20.0€\n",
      "Monatskarte: 49€\n"
     ]
    }
   ],
   "source": []
  },
  {
   "cell_type": "code",
   "execution_count": 47,
   "metadata": {},
   "outputs": [
    {
     "name": "stdout",
     "output_type": "stream",
     "text": [
      "Welches Ticket möchten Sie kaufen?\n",
      "Möchten Sie bar oder mit Karte bezahlen?\n",
      "Hier ist ihr Ticket.\n",
      "Ihr Wechselgeld beträgt: 47.5\n"
     ]
    }
   ],
   "source": []
  },
  {
   "cell_type": "code",
   "execution_count": 48,
   "metadata": {},
   "outputs": [
    {
     "name": "stdout",
     "output_type": "stream",
     "text": [
      "Die Einnahmen betragen: 2.5€\n"
     ]
    }
   ],
   "source": []
  },
  {
   "cell_type": "code",
   "execution_count": 49,
   "metadata": {},
   "outputs": [
    {
     "name": "stdout",
     "output_type": "stream",
     "text": [
      "Das Wechselgeld beträgt: 197.5€\n"
     ]
    }
   ],
   "source": []
  },
  {
   "cell_type": "markdown",
   "metadata": {},
   "source": [
    "Versucht die Lösung zu optimieren und für alle möglichen Fälle zu testen. Es sollte Kunden ausgeschlossen sein zu betrügen. Überlegt euch Randfälle, in denen der Code nicht funktioniert."
   ]
  },
  {
   "attachments": {},
   "cell_type": "markdown",
   "metadata": {},
   "source": [
    "### $$\\textbf{Vererbung}$$\n",
    "<hr>"
   ]
  },
  {
   "attachments": {},
   "cell_type": "markdown",
   "metadata": {},
   "source": [
    "* Stell dir vor, du möchtest ein \"virtuelles Tierreich\" in deinem Computer erstellen\n",
    "* Du hast bereits eine Grundklasse \"Tier\" erstellt, aber jetzt möchtest du spezifischere Tiere mit besonderen Eigenschaften hinzufügen\n",
    "* Hier kommt die Vererbung ins Spiel!\n",
    "\n",
    "<!-- * Vererbung ist wie das Weitergeben von Eigenschaften  -->\n",
    "* Lass uns das anhand von zwei Tierarten erklären: \"Hund\" und \"Katze\".\n",
    "\n",
    "    * Beispiel: **Vererbung im Tierreich**\n",
    "        ```python\n",
    "        class Tier:\n",
    "            def __init__(self, name):\n",
    "                self.name = name\n",
    "\n",
    "            def vorstellen(self):\n",
    "                print(f\"Hallo, ich bin {self.name}!\")\n",
    "\n",
    "            def make_sound(self):\n",
    "                print(\"Ein unbekanntes Tiergeräusch.\")\n",
    "\n",
    "        # Tier ist die Grundklasse\n",
    "\n",
    "        class Hund(Tier):\n",
    "            def make_sound(self):\n",
    "                print(\"Wuff! Wuff!\")\n",
    "\n",
    "        # Hund erbt von Tier\n",
    "\n",
    "        class Katze(Tier):\n",
    "            def make_sound(self):\n",
    "                print(\"Miau!\")\n",
    "\n",
    "        # Katze erbt von Tier\n",
    "\n",
    "        # Erstelle Instanzen von Hund und Katze\n",
    "        mein_hund = Hund(\"Bello\")\n",
    "        meine_katze = Katze(\"Minka\")\n",
    "\n",
    "        # Lass die Tiere Geräusche machen\n",
    "        mein_hund.make_sound()  # Wuff! Wuff!\n",
    "        meine_katze.make_sound()  # Miau!\n",
    "\n",
    "        mein_hund.vorstellen()  # Hallo, ich bin Bello!\n",
    "        meine_katze.vorstellen()  # Hallo, ich bin Minka!\n",
    "   ```\n",
    "\n",
    "* In diesem Beispiel ist Tier die Grundklasse \n",
    "* Hund und Katze sind Unterklassen von Tier\n",
    "* Das bedeutet, dass Hund und Katze die Eigenschaften von Tier erben, aber sie können auch ihre eigenen besonderen Eigenschaften haben. Ebenso können Methoden, die nicht überschrieben wurden 1:1 weiterverwendet werden (z.B. ```vorstellen```).\n",
    "* make_sound() ist eine Methode in der Grundklasse Tier, aber jede Tierart kann sie überschreiben und ein eigenes Geräusch machen, das zu ihr passt\n",
    "* Wenn wir weitere Attribute zu einer Klassen hinzufügen wollen, die von einer anderen Klasse erbt erhält die Kindklasse eine eigene __init__()-Methode\n",
    "    * Wir rufen den Konstruktor der Elternklasse mit ```super()``` auf:\n",
    "\n",
    "```python\n",
    "# Elternklasse\n",
    "class Angestellter:\n",
    "    # Konstruktor der Elternklasse\n",
    "    def __init__(self, name, mitarbeiter_id, gehalt):\n",
    "        self.mitarbeiter_id = mitarbeiter_id\n",
    "        self.gehalt = gehalt\n",
    "        self.name = name\n",
    "\n",
    "    # Standardrepräsentation der Klasse Angestellter\n",
    "    def __repr__(self):\n",
    "        return f\"Angestellter({self.mitarbeiter_id}, {self.gehalt})\"\n",
    "    \n",
    "    # Methode, die den Angestellten vorstellt\n",
    "    def vorstellen(self):\n",
    "        print(f\"Mein Name ist {self.name} und ich habe die ID {self.mitarbeiter_id}\")\n",
    "\n",
    "# Kindklasse\n",
    "class Manager(Angestellter):\n",
    "    # Konstruktor der Kindklasse Manager mit zusätzlichem Parameter abteilung \n",
    "    def __init__(self, name, mitarbeiter_id, gehalt, abteilung):\n",
    "        # Aufruf des Konstruktors der Elternklasse mit super()\n",
    "        super().__init__(name, mitarbeiter_id, gehalt)\n",
    "        # zusätzlicher Parameter abteilung der Kindklasse\n",
    "        self.abteilung = abteilung\n",
    "\n",
    "    # Überschreiben der Standardrepräsentation der Elternklasse (Polymorphie)\n",
    "    def __repr__(self):\n",
    "        return f\"Manager({self.mitarbeiter_id}, {self.gehalt}, {self.abteilung})\"\n",
    "    \n",
    "    # Überschreiben der Methode vorstellen() der Elternklasse (Polymorphie)\n",
    "    def vorstellen(self):\n",
    "        super().vorstellen()\n",
    "        print(f\"Ich bin Manager der Abteilung {self.abteilung}\")\n",
    "```"
   ]
  },
  {
   "cell_type": "markdown",
   "metadata": {},
   "source": [
    "Aufgabe 21: Überlege dir eine Vererbungshierarchie im Kontext einer Bibliothek. In Bibliotheken können häufig nicht nur Bücher ausgeliehen werden, sodnern auch Zeitschriften, DVDs, Computerspiele...\n",
    "\n",
    "1. Schreibe eine übergeordnete Klasse Medium mit folgenden Attributen (Konstruktoraufruf): Titel, Jahr, interne_id\n",
    "2. Schreibe eine Instanzmethode ```display_info()```, die die Attribute von Medium ausgibt\n",
    "3. Schreibe die Klassen ```Buch```, ```Film``` und ```Musik```, die von Medium erben (```class kindklasse(elternklasse)```) \n",
    "    * Schreibe jeweils einen Konstruktor, der über ```super().__init__(Titel, Jahr, interne_id)``` den Konstruktor der Elternklasse aufruft\n",
    "    * Überlege dir zusätzlich interessante Attribute, die für die Kindklassen sinnvoll sind und binde diese mit ein\n",
    "    * Schreibe eine Methode ```display_info()``` für alle Kindklassen\n",
    "4. Erstelle einige Objektinstanzen mit deinen Lieblingsbüchern/filemn/musik"
   ]
  },
  {
   "cell_type": "code",
   "execution_count": 60,
   "metadata": {},
   "outputs": [
    {
     "name": "stdout",
     "output_type": "stream",
     "text": [
      "Titel: Harry Potter und der Stein der Weisen - Jahr: 1997 - ID: 1 - Autor: J.K. Rowling\n",
      "Titel: Pulp Fiction - Jahr: 1994 - ID: 2 - Regisseur: Quentin Tarantino\n",
      "Titel: Bohemian Rhapsody - Jahr: 1975 - ID: 3 - Artist: Queen\n"
     ]
    }
   ],
   "source": []
  },
  {
   "attachments": {},
   "cell_type": "markdown",
   "metadata": {},
   "source": [
    "### $$\\textbf{Warum ist Vererbung sinnvoll?}$$\n",
    "<hr>"
   ]
  },
  {
   "attachments": {},
   "cell_type": "markdown",
   "metadata": {},
   "source": [
    "* Vererbung ist wie das Weiterreichen von Wissen von einer Generation zur nächsten $\\rightarrow$ Code kann wiederverwendet werden\n",
    "* Es vereinfacht den Code / schafft Strukturen / Abstraktion\n",
    "* Polymorphie erleichtert die Verarbeitung von Objekten verschiedener Klassen\n",
    "* Aufbau auf existierenden Klassen $\\rightarrow$ Beschleunigung der Entwicklung / Vermeidung von Fehlern"
   ]
  },
  {
   "attachments": {},
   "cell_type": "markdown",
   "metadata": {},
   "source": [
    "## $$\\textbf{Lambda-Funktionen}$$\n",
    "<hr>"
   ]
  },
  {
   "attachments": {},
   "cell_type": "markdown",
   "metadata": {},
   "source": [
    "Beispiele:\n",
    "    * Beispiel 1: **Verdoppelung**\n",
    "        ```python\n",
    "        verdoppler = lambda x: x * 2\n",
    "\n",
    "        zahl = 5\n",
    "        neue_zahl = verdoppler(zahl)\n",
    "\n",
    "        print(\"Die Zahl\", zahl, \"wurde verdoppelt:\", neue_zahl)\n",
    "        ```\n",
    "    * Beispiel 2: \n",
    "    ```python\n",
    "    quadrieren = lambda x: x ** 2\n",
    "\n",
    "    zahl = 3\n",
    "    quadrat = quadrieren(zahl)\n",
    "\n",
    "    print(\"Das Quadrat von\", zahl, \"ist:\", quadrat)\n",
    "    ```\n",
    "* Lambda-Funktionen sind nützlich, wenn man den Code nur lokal (an einer bestimmten Stelle) braucht\n",
    "    * Sie sind einfach lesbar (Einzeiler)\n",
    "    * Können als Argumente an andere Funktionen übergeben werden\n",
    "    * Können einfach innerhalb anderen Funktionen angewendet werden (z.B. Definition einer lambda-Funktion innerhalb von ```map()```, statt eine an anderer Stelle definierte Funktion zu übergeben)\n",
    "\n",
    "\n"
   ]
  },
  {
   "attachments": {},
   "cell_type": "markdown",
   "metadata": {},
   "source": [
    "### $$\\textbf{Wann sind Lambda-Funktionen sinnvoll}$$\n",
    "<hr>"
   ]
  },
  {
   "attachments": {},
   "cell_type": "markdown",
   "metadata": {},
   "source": [
    "* Denke daran, dass Lambda-Funktionen besonders nützlich sind, wenn du eine kurze Aufgabe hast, die du nicht unbedingt als separate Funktion definieren möchtest\n",
    "* Sie sind nicht gut für große und komplexe Aufgaben geeignet!"
   ]
  },
  {
   "attachments": {},
   "cell_type": "markdown",
   "metadata": {},
   "source": [
    "# $$\\textbf{Fortgeschrittene(re) Datenstrukturen}$$\n",
    "<hr>"
   ]
  },
  {
   "cell_type": "markdown",
   "metadata": {},
   "source": [
    "## $$\\textbf{Stack}$$\n",
    "<hr>"
   ]
  },
  {
   "cell_type": "markdown",
   "metadata": {},
   "source": [
    "* Stell dir vor, du bist ein Kellner in einem Restaurant und musst Teller aufeinander stapeln und wieder vom Stapel nehmen\n",
    "* Ein Stapel (Stack) in Python funktioniert ähnlich - du kannst Dinge darauf legen und wieder wegnehmen\n",
    "    * Logischerweise nimmst du Elemente nur oben vom Stapel, genau wie bei den Tellern im Restaurant \n",
    "\n",
    "Beispiel **Teller-Stapeln**\n",
    "\n",
    "* Du möchtest Teller aufeinander stapeln und nimmst gelegentlich wenn nötig wieder Teller vom Stapel\n",
    "    * Der letzte Teller, den du dem Stapel hinzufügst, ist der erste, den du wieder abnimmst\n",
    "* \"LIFO-Prinzip\" - Last In, First Out \n",
    "```python\n",
    "# Erstelle einen leeren Stapel (einfache Liste)\n",
    "teller_stapel = []\n",
    "\n",
    "# Füge Teller hinzu\n",
    "teller_stapel.append(\"Teller 1\")\n",
    "teller_stapel.append(\"Teller 2\")\n",
    "teller_stapel.append(\"Teller 3\")\n",
    "\n",
    "print(\"Der oberste Teller:\", teller_stapel[-1])  # \"Teller 3\"\n",
    "\n",
    "# Nimm den obersten Teller ab\n",
    "abgenommener_teller = teller_stapel.pop()\n",
    "print(\"Abgenommener Teller:\", abgenommener_teller)  # \"Teller 3\"\n",
    "```"
   ]
  },
  {
   "cell_type": "markdown",
   "metadata": {},
   "source": [
    "Aufgabe 22: Du bist Praktikant in einem traditionsreichen Familienunternehmen. Neben der Reinigung und Bedienung der Kaffeemaschine bist du dafür zuständig ankommenden Faxe zu bearbeiten. Wenn du morgens zur Arbeit kommst ist bereits ein großer Stapel an Faxen vorhanden. Du bearbeitest immer das am weitesten oben liegende Fax zuerst. Der folgende Code soll das schematisch simulieren. Vervollständige die Methode ```process_faxes()```, sodass der Stack nach dem \"LIFO-Prinzip\" abgebaut wird. \n",
    "* Gib bei jedem bearbeitetem Fax eine Meldung aus \n",
    "\n",
    "```python\n",
    "class fax_bearbeitung:\n",
    "    def __init__(self):\n",
    "        self.stack = []\n",
    "\n",
    "    def eingehendes_fax(self, fax):\n",
    "        \"\"\"Fügt ein eingehendes Fax zum Stapel hinzu.\"\"\"\n",
    "        self.stack.append(fax)\n",
    "\n",
    "    def bearbeite_faxe(self):\n",
    "        \"\"\"Verarbeitet die Faxe in der Reihenfolge ihres Eingangs.\"\"\"\n",
    "        # Dein Code\n",
    "\n",
    "# Erstelle eine Instanz von FaxProcessing\n",
    "fb = fax_bearbeitung()\n",
    "\n",
    "# Füge einige Faxe zum Stapel hinzu\n",
    "fb.eingehendes_fax(\"Fax 1\")\n",
    "fb.eingehendes_fax(\"Fax 2\")\n",
    "fb.eingehendes_fax(\"Fax 3\")\n",
    "\n",
    "# Verarbeite die Faxe\n",
    "fb.bearbeite_faxe()\n",
    "```"
   ]
  },
  {
   "cell_type": "markdown",
   "metadata": {},
   "source": [
    "Aufgabe 23: Schreibe eine Funktion, die einen Stack verwendet, um die Zeichen eines eingegebenen Strings in umgekehrter Reihenfolge zu sammeln und dann die umgekehrte Zeichenkette zu erstellen. \n",
    "Hinweis: Jeder Buchstabe des Eingabestrings wird dem Stapel hinzugefügt, und dann werden die Buchstaben nacheinander aus dem Stapel entfernt und zur umgekehrten Zeichenkette hinzugefügt."
   ]
  },
  {
   "cell_type": "code",
   "execution_count": 67,
   "metadata": {},
   "outputs": [
    {
     "name": "stdout",
     "output_type": "stream",
     "text": [
      "Eingabe: Hallo, Welt!\n",
      "Umgekehrte Zeichenkette: !tleW ,ollaH\n"
     ]
    }
   ],
   "source": [
    "\n"
   ]
  },
  {
   "attachments": {},
   "cell_type": "markdown",
   "metadata": {},
   "source": [
    "## $$\\textbf{Queues}$$\n",
    "<hr>"
   ]
  },
  {
   "attachments": {},
   "cell_type": "markdown",
   "metadata": {},
   "source": [
    "* Stell dir vor, du bist ein \"Kassenwart\" in einem Vergnügungspark und musst in der Schlange stehende Gäste nacheinander bedienen\n",
    "* Eine Warteschlange in Python funktioniert ähnlich \n",
    "Beispiel\n",
    "* Beispiel 1: **Gäste-Warteschlange**\n",
    "    * Du möchtest die Gäste nacheinander bedienen und der erste, der in der Schlange steht, ist auch der erste, den du bedienst\n",
    "    * Das nennt man eine \"Queue\" (auch als \"FIFO\" - First In, First Out - bezeichnet)\n",
    "    ```python\n",
    "    \n",
    "    from queue import Queue\n",
    "\n",
    "    # Erstelle eine leere Gäste-Warteschlange\n",
    "    gaeste_warteschlange = Queue()\n",
    "\n",
    "    # Füge Gäste hinzu\n",
    "    gaeste_warteschlange.put(\"Gast 1\")\n",
    "    gaeste_warteschlange.put(\"Gast 2\")\n",
    "    gaeste_warteschlange.put(\"Gast 3\")\n",
    "\n",
    "    # Bediene den nächsten Gast\n",
    "    naechster_gast = gaeste_warteschlange.get()\n",
    "    print(\"Der nächste Gast:\", naechster_gast)  # \"Gast 1\"\n",
    "    ```"
   ]
  },
  {
   "cell_type": "markdown",
   "metadata": {},
   "source": [
    "Aufgabe 24: Ein Händler für Konzerttickets möchte einen Onlineshop aufbauen. Die Tickets für Konzerte werden zu einer bestimmten Uhrzeit freigeschaltet. Dabei kommt es häufig zu Überbuchung. Einzelne Kunden bekommen eine vorläufige Buchungsbestätigung, die aber unter Umständen (sollten die Tickets schon vergeben sein) zurückgezogen werden kann. Dies liegt daran, dass der Server, über den die Ticketverkäufe laufen nicht viele tausend Anfragen auf einmal beantworten kann. Er Stellt die Ticketkaufanfragen in eine Warteschlange und arbeitet sie schrittweise ab.\n",
    "Schreibe eine Klasse ```Server```, die Kunden nach zeitlicher Abfolge in eine Queue einordnet und dann die Ticketwünsche bearbeitet. \n",
    "\n",
    "Zusatz: Baue eine Methode ein, die nachträglich eine Absage erteilt, falls die Tickets schon ausverkauft sind (nach dem FIFO-Prinzip).\n",
    "\n",
    "Grundgerüst:\n",
    "```python\n",
    "from queue import Queue\n",
    "\n",
    "class Server:\n",
    "    def __init__(self):\n",
    "        self.ticket_warteschlange = # ???\n",
    "        self.verfuegbare_tickets = 100  # Anzahl der verfügbaren Tickets\n",
    "\n",
    "    def ticket_anfragen(self, kunden_name, zeitstempel):\n",
    "        # Kunde mit Name (z.B. Kunde1) und Kaufzeitpunkt (z.B. 09:00) in Queue einreihen\n",
    "        # Tipp: Fasse kunden_name und zeitstempel als tupel zusammen \n",
    "        self. #???\n",
    "\n",
    "    def tickets_verarbeiten(self):\n",
    "        while not self.ticket_warteschlange.empty():\n",
    "            # Nimm Kunden aus der Warteschlange\n",
    "            # Absage / Zusage je nach Ticketverfügbarkeit"
   ]
  },
  {
   "cell_type": "code",
   "execution_count": 70,
   "metadata": {},
   "outputs": [
    {
     "name": "stdout",
     "output_type": "stream",
     "text": [
      "Ticket verkauft an Kunde 1 (Zeitstempel: 09:01)\n",
      "Ticket verkauft an Kunde 2 (Zeitstempel: 09:02)\n",
      "Ticket verkauft an Kunde 3 (Zeitstempel: 09:03)\n",
      "Ticket verkauft an Kunde 4 (Zeitstempel: 09:04)\n",
      "Ticket verkauft an Kunde 5 (Zeitstempel: 09:05)\n",
      "Ticket verkauft an Kunde 6 (Zeitstempel: 09:06)\n",
      "Ticket verkauft an Kunde 7 (Zeitstempel: 09:07)\n",
      "Ticket verkauft an Kunde 8 (Zeitstempel: 09:08)\n",
      "Ticket verkauft an Kunde 9 (Zeitstempel: 09:09)\n",
      "Ticket verkauft an Kunde 10 (Zeitstempel: 09:10)\n",
      "Ticket verkauft an Kunde 11 (Zeitstempel: 09:11)\n",
      "Ticket verkauft an Kunde 12 (Zeitstempel: 09:12)\n",
      "Ticket verkauft an Kunde 13 (Zeitstempel: 09:13)\n",
      "Ticket verkauft an Kunde 14 (Zeitstempel: 09:14)\n",
      "Ticket verkauft an Kunde 15 (Zeitstempel: 09:15)\n",
      "Ticket verkauft an Kunde 16 (Zeitstempel: 09:16)\n",
      "Ticket verkauft an Kunde 17 (Zeitstempel: 09:17)\n",
      "Ticket verkauft an Kunde 18 (Zeitstempel: 09:18)\n",
      "Ticket verkauft an Kunde 19 (Zeitstempel: 09:19)\n",
      "Ticket verkauft an Kunde 20 (Zeitstempel: 09:20)\n",
      "Ticket verkauft an Kunde 21 (Zeitstempel: 09:21)\n",
      "Ticket verkauft an Kunde 22 (Zeitstempel: 09:22)\n",
      "Ticket verkauft an Kunde 23 (Zeitstempel: 09:23)\n",
      "Ticket verkauft an Kunde 24 (Zeitstempel: 09:24)\n",
      "Ticket verkauft an Kunde 25 (Zeitstempel: 09:25)\n",
      "Ticket verkauft an Kunde 26 (Zeitstempel: 09:26)\n",
      "Ticket verkauft an Kunde 27 (Zeitstempel: 09:27)\n",
      "Ticket verkauft an Kunde 28 (Zeitstempel: 09:28)\n",
      "Ticket verkauft an Kunde 29 (Zeitstempel: 09:29)\n",
      "Ticket verkauft an Kunde 30 (Zeitstempel: 09:30)\n",
      "Ticket verkauft an Kunde 31 (Zeitstempel: 09:31)\n",
      "Ticket verkauft an Kunde 32 (Zeitstempel: 09:32)\n",
      "Ticket verkauft an Kunde 33 (Zeitstempel: 09:33)\n",
      "Ticket verkauft an Kunde 34 (Zeitstempel: 09:34)\n",
      "Ticket verkauft an Kunde 35 (Zeitstempel: 09:35)\n",
      "Ticket verkauft an Kunde 36 (Zeitstempel: 09:36)\n",
      "Ticket verkauft an Kunde 37 (Zeitstempel: 09:37)\n",
      "Ticket verkauft an Kunde 38 (Zeitstempel: 09:38)\n",
      "Ticket verkauft an Kunde 39 (Zeitstempel: 09:39)\n",
      "Ticket verkauft an Kunde 40 (Zeitstempel: 09:40)\n",
      "Ticket verkauft an Kunde 41 (Zeitstempel: 09:41)\n",
      "Ticket verkauft an Kunde 42 (Zeitstempel: 09:42)\n",
      "Ticket verkauft an Kunde 43 (Zeitstempel: 09:43)\n",
      "Ticket verkauft an Kunde 44 (Zeitstempel: 09:44)\n",
      "Ticket verkauft an Kunde 45 (Zeitstempel: 09:45)\n",
      "Ticket verkauft an Kunde 46 (Zeitstempel: 09:46)\n",
      "Ticket verkauft an Kunde 47 (Zeitstempel: 09:47)\n",
      "Ticket verkauft an Kunde 48 (Zeitstempel: 09:48)\n",
      "Ticket verkauft an Kunde 49 (Zeitstempel: 09:49)\n",
      "Ticket verkauft an Kunde 50 (Zeitstempel: 09:50)\n",
      "Ticket verkauft an Kunde 51 (Zeitstempel: 09:51)\n",
      "Ticket verkauft an Kunde 52 (Zeitstempel: 09:52)\n",
      "Ticket verkauft an Kunde 53 (Zeitstempel: 09:53)\n",
      "Ticket verkauft an Kunde 54 (Zeitstempel: 09:54)\n",
      "Ticket verkauft an Kunde 55 (Zeitstempel: 09:55)\n",
      "Ticket verkauft an Kunde 56 (Zeitstempel: 09:56)\n",
      "Ticket verkauft an Kunde 57 (Zeitstempel: 09:57)\n",
      "Ticket verkauft an Kunde 58 (Zeitstempel: 09:58)\n",
      "Ticket verkauft an Kunde 59 (Zeitstempel: 09:59)\n",
      "Ticket verkauft an Kunde 60 (Zeitstempel: 09:60)\n",
      "Ticket verkauft an Kunde 61 (Zeitstempel: 09:61)\n",
      "Ticket verkauft an Kunde 62 (Zeitstempel: 09:62)\n",
      "Ticket verkauft an Kunde 63 (Zeitstempel: 09:63)\n",
      "Ticket verkauft an Kunde 64 (Zeitstempel: 09:64)\n",
      "Ticket verkauft an Kunde 65 (Zeitstempel: 09:65)\n",
      "Ticket verkauft an Kunde 66 (Zeitstempel: 09:66)\n",
      "Ticket verkauft an Kunde 67 (Zeitstempel: 09:67)\n",
      "Ticket verkauft an Kunde 68 (Zeitstempel: 09:68)\n",
      "Ticket verkauft an Kunde 69 (Zeitstempel: 09:69)\n",
      "Ticket verkauft an Kunde 70 (Zeitstempel: 09:70)\n",
      "Ticket verkauft an Kunde 71 (Zeitstempel: 09:71)\n",
      "Ticket verkauft an Kunde 72 (Zeitstempel: 09:72)\n",
      "Ticket verkauft an Kunde 73 (Zeitstempel: 09:73)\n",
      "Ticket verkauft an Kunde 74 (Zeitstempel: 09:74)\n",
      "Ticket verkauft an Kunde 75 (Zeitstempel: 09:75)\n",
      "Ticket verkauft an Kunde 76 (Zeitstempel: 09:76)\n",
      "Ticket verkauft an Kunde 77 (Zeitstempel: 09:77)\n",
      "Ticket verkauft an Kunde 78 (Zeitstempel: 09:78)\n",
      "Ticket verkauft an Kunde 79 (Zeitstempel: 09:79)\n",
      "Ticket verkauft an Kunde 80 (Zeitstempel: 09:80)\n",
      "Ticket verkauft an Kunde 81 (Zeitstempel: 09:81)\n",
      "Ticket verkauft an Kunde 82 (Zeitstempel: 09:82)\n",
      "Ticket verkauft an Kunde 83 (Zeitstempel: 09:83)\n",
      "Ticket verkauft an Kunde 84 (Zeitstempel: 09:84)\n",
      "Ticket verkauft an Kunde 85 (Zeitstempel: 09:85)\n",
      "Ticket verkauft an Kunde 86 (Zeitstempel: 09:86)\n",
      "Ticket verkauft an Kunde 87 (Zeitstempel: 09:87)\n",
      "Ticket verkauft an Kunde 88 (Zeitstempel: 09:88)\n",
      "Ticket verkauft an Kunde 89 (Zeitstempel: 09:89)\n",
      "Ticket verkauft an Kunde 90 (Zeitstempel: 09:90)\n",
      "Ticket verkauft an Kunde 91 (Zeitstempel: 09:91)\n",
      "Ticket verkauft an Kunde 92 (Zeitstempel: 09:92)\n",
      "Ticket verkauft an Kunde 93 (Zeitstempel: 09:93)\n",
      "Ticket verkauft an Kunde 94 (Zeitstempel: 09:94)\n",
      "Ticket verkauft an Kunde 95 (Zeitstempel: 09:95)\n",
      "Ticket verkauft an Kunde 96 (Zeitstempel: 09:96)\n",
      "Ticket verkauft an Kunde 97 (Zeitstempel: 09:97)\n",
      "Ticket verkauft an Kunde 98 (Zeitstempel: 09:98)\n",
      "Ticket verkauft an Kunde 99 (Zeitstempel: 09:99)\n",
      "Ticket verkauft an Kunde 100 (Zeitstempel: 09:100)\n",
      "Keine Tickets mehr verfügbar. Absage an Kunde 101\n",
      "Keine Tickets mehr verfügbar. Absage an Kunde 102\n",
      "Keine Tickets mehr verfügbar. Absage an Kunde 103\n",
      "Keine Tickets mehr verfügbar. Absage an Kunde 104\n",
      "Keine Tickets mehr verfügbar. Absage an Kunde 105\n",
      "Keine Tickets mehr verfügbar. Absage an Kunde 106\n",
      "Keine Tickets mehr verfügbar. Absage an Kunde 107\n",
      "Keine Tickets mehr verfügbar. Absage an Kunde 108\n",
      "Keine Tickets mehr verfügbar. Absage an Kunde 109\n",
      "Keine Tickets mehr verfügbar. Absage an Kunde 110\n",
      "Keine Tickets mehr verfügbar. Absage an Kunde 111\n",
      "Keine Tickets mehr verfügbar. Absage an Kunde 112\n",
      "Keine Tickets mehr verfügbar. Absage an Kunde 113\n",
      "Keine Tickets mehr verfügbar. Absage an Kunde 114\n",
      "Keine Tickets mehr verfügbar. Absage an Kunde 115\n",
      "Keine Tickets mehr verfügbar. Absage an Kunde 116\n",
      "Keine Tickets mehr verfügbar. Absage an Kunde 117\n",
      "Keine Tickets mehr verfügbar. Absage an Kunde 118\n",
      "Keine Tickets mehr verfügbar. Absage an Kunde 119\n",
      "Keine Tickets mehr verfügbar. Absage an Kunde 120\n"
     ]
    }
   ],
   "source": []
  },
  {
   "attachments": {},
   "cell_type": "markdown",
   "metadata": {},
   "source": [
    "## $$\\textbf{Sets}$$\n",
    "<hr>"
   ]
  },
  {
   "cell_type": "markdown",
   "metadata": {},
   "source": [
    "* Stell dir vor, du sammelst verschiedene Arten von Spielautos, aber du möchtest nicht dasselbe Spielauto zweimal haben\n",
    "* Hier kommen Sets in Python ins Spiel! \n",
    "* Ein Set ist wie eine spezielle Box, in der du jedes Spielauto nur einmal hineinlegen kannst\n",
    "* Hier sind zwei spielerische Beispiele:\n",
    "    * Beispiel 1: **Spielauto-Sammlung**\n",
    "        * Du sammelst verschiedene Arten von Spielautos, aber du möchtest jedes Spielauto nur einmal haben. Ein Set ist wie eine spezielle Schachtel für deine Spielautos!\n",
    "```python\n",
    "    # Erstelle ein leeres Set für Spielautos\n",
    "    spielauto_sammlung = set()\n",
    "\n",
    "    # Füge Spielautos hinzu\n",
    "    spielauto_sammlung.add(\"Porsche 911\")\n",
    "    spielauto_sammlung.add(\"Audi Q4\")\n",
    "    spielauto_sammlung.add(\"Opel Astra\")\n",
    "\n",
    "    # Füge dasselbe Spielauto nicht nochmal hinzu\n",
    "    spielauto_sammlung.add(\"Porsche 911\")  # Wird ignoriert\n",
    "\n",
    "    # Zeige die gesamte Spielauto-Sammlung an\n",
    "    print(\"Meine Spielauto-Sammlung:\", spielauto_sammlung)\n",
    "```\n",
    "   * Beispiel 2: **Obstauswahl**\n",
    "    * Stell dir vor, du wählst verschiedene Obstsorten für eine Obstsalat aus, aber jedes Obst sollte nur einmal im Salat sein\n",
    "    ```python\n",
    "        # Erstelle ein Set für den Obstsalat\n",
    "    obstsalat = set()\n",
    "\n",
    "    # Füge Obst hinzu\n",
    "    obstsalat.add(\"Apfel\")\n",
    "    obstsalat.add(\"Banane\")\n",
    "    obstsalat.add(\"Erdbeere\")\n",
    "\n",
    "    # Füge dasselbe Obst nicht nochmal hinzu\n",
    "    obstsalat.add(\"Apfel\")  # Wird ignoriert\n",
    "\n",
    "    # Zeige den Obstsalat an\n",
    "    print(\"Obstsalat:\", obstsalat)\n",
    "    ```\n",
    "* In diesen Beispielen ist ein Set wie eine spezielle Schachtel, in der jedes Element nur einmal vorkommen kann\n",
    "* Genau wie du verschiedene Spielzeuge oder Obstsorten sammelst, aber nicht das Gleiche doppelt haben möchtest, kannst du mit Sets verschiedene Elemente sammeln und sicherstellen, dass    jedes Element einzigartig ist!\n"
   ]
  },
  {
   "cell_type": "markdown",
   "metadata": {},
   "source": [
    "### $$\\textbf{Übungen}$$\n",
    "<hr>"
   ]
  },
  {
   "cell_type": "markdown",
   "metadata": {},
   "source": [
    "Aufgabe 25: Stell dir vor, du hast eine Tierfarm und möchtest verschiedene Tiere sammeln. Verwende Sets, um sicherzustellen, dass jedes Tier nur einmal vorkommt.\n",
    "\n",
    "Hinweis: \n",
    "1. Erstelle ein leeres Set namens tierfarm.\n",
    "2. Füge vier verschiedene Tiere hinzu, z.B. \"Huhn\", \"Schwein\", \"Kuh\" und \"Schaf\".\n",
    "3. Füge ein weiteres \"Huhn\" zur Tierfarm hinzu und beobachte, was passiert.\n",
    "4. Gib die Liste der Tiere auf deiner Tierfarm aus."
   ]
  },
  {
   "cell_type": "code",
   "execution_count": null,
   "metadata": {},
   "outputs": [],
   "source": [
    "\n"
   ]
  },
  {
   "cell_type": "markdown",
   "metadata": {},
   "source": [
    "Aufgabe 26: Du sammelst die Lieblingseis-Sorten deiner Freunde, aber jede Sorte sollte nur einmal vorkommen.\n",
    "Hinweis: \n",
    "1. Erstelle ein leeres Set namens lieblingseis.\n",
    "2. Füge fünf verschiedene Eis-Sorten hinzu, z.B. \"Schokolade\", \"Vanille\", \"Erdbeere\", \"Zitrone\" und \"Mango\".\n",
    "3. Füge \"Vanille\" nochmal hinzu und beobachte, was passiert.\n",
    "4. Gib die Liste der Lieblingseis-Sorten aus."
   ]
  },
  {
   "cell_type": "code",
   "execution_count": null,
   "metadata": {},
   "outputs": [],
   "source": []
  },
  {
   "attachments": {},
   "cell_type": "markdown",
   "metadata": {},
   "source": [
    "### $$\\textbf{Danke für eure Aufmerksamkeit!}$$\n",
    "<hr>  "
   ]
  }
 ],
 "metadata": {
  "celltoolbar": "Slideshow",
  "kernelspec": {
   "display_name": "Python 3 (ipykernel)",
   "language": "python",
   "name": "python3"
  },
  "language_info": {
   "codemirror_mode": {
    "name": "ipython",
    "version": 3
   },
   "file_extension": ".py",
   "mimetype": "text/x-python",
   "name": "python",
   "nbconvert_exporter": "python",
   "pygments_lexer": "ipython3",
   "version": "3.10.6"
  }
 },
 "nbformat": 4,
 "nbformat_minor": 1
}
