{
 "cells": [
  {
   "attachments": {},
   "cell_type": "markdown",
   "metadata": {
    "slideshow": {
     "slide_type": "skip"
    }
   },
   "source": [
    "$\n",
    "\\newcommand{\\nc}{\\newcommand} \n",
    "\\nc{\\t}{\\text}\n",
    "\\nc{\\tb}{\\textbf}\n",
    "\\nc{\\ti}{\\textit}\n",
    "$"
   ]
  },
  {
   "attachments": {},
   "cell_type": "markdown",
   "metadata": {
    "slideshow": {
     "slide_type": "slide"
    }
   },
   "source": [
    "# $$\\textbf{Hackerschool } $$\n",
    "<img src = \"https://vapassion.de/wp-content/uploads/2020/11/Acc_Logo_White_Purple_RGB_Dark1.png\" alt=\"image\" width =\"2000\">\n",
    "\n",
    "\n",
    "#### $$\\text{Tag 3}$$\n",
    "#### $$\\text{Claudia Oviesu und Leon Plumpe}$$\n"
   ]
  },
  {
   "attachments": {},
   "cell_type": "markdown",
   "metadata": {
    "slideshow": {
     "slide_type": "slide"
    }
   },
   "source": [
    "## $$\\textbf{Allgemeiner Kursüberblick}$$\n",
    "<hr>"
   ]
  },
  {
   "attachments": {},
   "cell_type": "markdown",
   "metadata": {},
   "source": [
    "* Wiederholung Tag 2\n",
    "    * Übungen "
   ]
  },
  {
   "attachments": {},
   "cell_type": "markdown",
   "metadata": {},
   "source": [
    "* Module\n",
    "    * Paketimport\n",
    "    * Übungen\n",
    "    "
   ]
  },
  {
   "attachments": {},
   "cell_type": "markdown",
   "metadata": {},
   "source": [
    " * Map\n",
    "    * Grundprinzip\n",
    "    * Wofür ist Map sinnvoll?\n",
    "    * Übungen"
   ]
  },
  {
   "attachments": {},
   "cell_type": "markdown",
   "metadata": {
    "slideshow": {
     "slide_type": "fragment"
    }
   },
   "source": [
    "* Filter\n",
    "    * Grundprinzip\n",
    "    * Übungen"
   ]
  },
  {
   "attachments": {},
   "cell_type": "markdown",
   "metadata": {},
   "source": [
    "* Reduce\n",
    "    * Definition\n",
    "    * Wofür ist Reduce sinnvoll?"
   ]
  },
  {
   "attachments": {},
   "cell_type": "markdown",
   "metadata": {},
   "source": [
    "* Dictionary"
   ]
  },
  {
   "attachments": {},
   "cell_type": "markdown",
   "metadata": {
    "slideshow": {
     "slide_type": "slide"
    }
   },
   "source": [
    "## $$\\textbf{Wiederholung Tag 2}$$\n",
    "<hr>"
   ]
  },
  {
   "attachments": {},
   "cell_type": "markdown",
   "metadata": {
    "slideshow": {
     "slide_type": "fragment"
    }
   },
   "source": [
    "* Damit ihr das, was wir euch gestern beigebracht haben, nicht so schnell vergesst, haben wir euch hier ein paar Aufgaben zusammengestellt\n",
    "<br>\n",
    "<br>\n"
   ]
  },
  {
   "cell_type": "markdown",
   "metadata": {},
   "source": [
    "### $$\\textbf{Übungen}$$\n",
    "<hr>"
   ]
  },
  {
   "cell_type": "markdown",
   "metadata": {},
   "source": [
    "Aufgabe 1: \n",
    "Gegeben ist eine Liste von Zahlen. Erstelle zwei separate Listen, eine für gerade und eine für ungerade Zahlen, indem du eine List Comprehension verwendest.\n",
    "```python\n",
    "# Gegebene Liste von Zahlen\n",
    "zahlen = [1, 2, 3, 4, 5, 6, 7, 8, 9, 10]\n",
    "``` "
   ]
  },
  {
   "cell_type": "code",
   "execution_count": null,
   "metadata": {},
   "outputs": [],
   "source": [
    "\n"
   ]
  },
  {
   "cell_type": "markdown",
   "metadata": {},
   "source": [
    "Aufgabe 2:\n",
    "Schreibe eine rekursive Funktion zahlenstrahl(start, end), die die Zahlen von einem Wert (start) bis zu einem anderen Wert (end) ausgibt. \n",
    " Der Nutzer soll gefragt werden, wo der Start und das Ende sein sollen.\n",
    "\n",
    "Hinweis: Betrachte die Fälle end $<$ start und end $\\geq$ start"
   ]
  },
  {
   "cell_type": "code",
   "execution_count": null,
   "metadata": {},
   "outputs": [
    {
     "name": "stdout",
     "output_type": "stream",
     "text": [
      "1\n",
      "2\n",
      "3\n",
      "4\n",
      "5\n"
     ]
    }
   ],
   "source": [
    "\n"
   ]
  },
  {
   "cell_type": "markdown",
   "metadata": {},
   "source": [
    "Aufgabe 3: Schreibe ein Programm, indem der User eine Zahl zwischen 0 und 10 erraten soll. "
   ]
  },
  {
   "cell_type": "code",
   "execution_count": null,
   "metadata": {},
   "outputs": [],
   "source": []
  },
  {
   "cell_type": "markdown",
   "metadata": {},
   "source": [
    "Aufgabe 4:\n",
    "Schreibe ein rekursives     Programm, das eine Zahl n einliest und Sternchen in ein Dreieck ausgibt \n",
    "Beispiel: n = 7, \n",
    "\n",
    "Ausgabe:\n",
    "```\n",
    "*******\n",
    "******\n",
    "*****\n",
    "****\n",
    "***\n",
    "**\n",
    "*\n",
    "```\n"
   ]
  },
  {
   "cell_type": "code",
   "execution_count": null,
   "metadata": {},
   "outputs": [],
   "source": []
  },
  {
   "attachments": {},
   "cell_type": "markdown",
   "metadata": {},
   "source": [
    "## $$\\textbf{Module}$$\n",
    "<hr>"
   ]
  },
  {
   "attachments": {},
   "cell_type": "markdown",
   "metadata": {},
   "source": [
    "* In Python sind Module Sammlungen von Code, die von anderen Programmen verwendet werden können\n",
    "* Du kannst dir ein Modul als eine Art Werkzeugkasten vorstellen, der spezielle Funktionen und Werkzeuge enthält, die du in deinem Code verwenden kannst"
   ]
  },
  {
   "attachments": {},
   "cell_type": "markdown",
   "metadata": {},
   "source": [
    "* Angenommen, du möchtest ein Programm schreiben, das die Fläche von verschiedenen Formen berechnen kann\n",
    "* Hierfür könntest du ein Modul namens \"formen\" erstellen\n",
    "* In diesem Modul würdest du spezielle Funktionen erstellen, die die Flächen von Kreisen, Rechtecken und Dreiecken berechnen können\n",
    "* Hier ist ein Beispiel, wie das aussehen könnte:\n",
    "```python\n",
    "# Das ist unser Modul \"formen.py\"\n",
    "\n",
    "def berechne_kreisflaeche(radius):\n",
    "    pi = 3.14159\n",
    "    return pi * radius ** 2\n",
    "\n",
    "def berechne_rechteckflaeche(laenge, breite):\n",
    "    return laenge * breite\n",
    "\n",
    "def berechne_dreieckflaeche(grundseite, hoehe):\n",
    "    return 0.5 * grundseite * hoehe\n",
    "```\n",
    "\n",
    "* Wenn du ein Programm schreibst, das die Flächen von Formen berechnen soll, kannst du dieses Modul einbinden und die Funktionen nutzen, die du darin definiert hast:\n",
    "\n",
    "```python\n",
    "# Hier nutzen wir das Modul \"formen\", um die Flächen zu berechnen\n",
    "\n",
    "import formen\n",
    "\n",
    "radius = 5\n",
    "kreisflaeche = formen.berechne_kreisflaeche(radius)\n",
    "print(\"Die Fläche des Kreises beträgt:\", kreisflaeche)\n",
    "\n",
    "laenge = 4\n",
    "breite = 6\n",
    "rechteckflaeche = formen.berechne_rechteckflaeche(laenge, breite)\n",
    "print(\"Die Fläche des Rechtecks beträgt:\", rechteckflaeche)\n",
    "\n",
    "grundseite = 3\n",
    "hoehe = 8\n",
    "dreieckflaeche = formen.berechne_dreieckflaeche(grundseite, hoehe)\n",
    "print(\"Die Fläche des Dreiecks beträgt:\", dreieckflaeche)\n",
    "```\n",
    "* Indem du das Modul \"formen\" importierst, kannst du seine Funktionen verwenden, um die Flächen der Formen zu berechnen, ohne dass du den Code für die Flächenberechnung neu schreiben musst"
   ]
  },
  {
   "attachments": {},
   "cell_type": "markdown",
   "metadata": {},
   "source": [
    "### $$\\textbf{Wofür sind Module sinnvoll?}$$\n",
    "<hr>"
   ]
  },
  {
   "attachments": {},
   "cell_type": "markdown",
   "metadata": {},
   "source": [
    "* Sie ermöglichen es uns, Code zu organisieren, wiederzuverwenden und unsere Programme übersichtlicher zu gestalten"
   ]
  },
  {
   "attachments": {},
   "cell_type": "markdown",
   "metadata": {},
   "source": [
    "### $$\\textbf{Aufgaben}$$\n",
    "<hr>"
   ]
  },
  {
   "attachments": {},
   "cell_type": "markdown",
   "metadata": {},
   "source": [
    "Aufgabe 5: \n",
    "Erstelle ein Modul namens \"rechner\", das Funktionen zum Addieren, Subtrahieren, Multiplizieren und Dividieren von Zahlen enthält. Importiere dieses Modul in deinem Hauptprogramm und lass deinen Sitznachbarn zwei Zahlen eingeben. Danach soll er die Möglichkeit haben zu wählen, welche der vier Operationen auf die Zahlen angewendet werden sollen."
   ]
  },
  {
   "cell_type": "code",
   "execution_count": null,
   "metadata": {},
   "outputs": [],
   "source": []
  },
  {
   "attachments": {},
   "cell_type": "markdown",
   "metadata": {},
   "source": [
    "Aufgabe 6: \n",
    "Erstelle ein Modul namens \"tiere\", das Funktionen enthält, die Tiergeräusche zurückgeben (z. B. \"Miau\" für Katze, \"Wuff\" für Hund). Importiere dieses Modul in deinem Hauptprogramm und lass deinen Sitznachbarn den Namen eines Tieres eingeben. Das Programm soll dann das entsprechende Geräusch ausgeben."
   ]
  },
  {
   "cell_type": "code",
   "execution_count": null,
   "metadata": {},
   "outputs": [],
   "source": []
  },
  {
   "cell_type": "code",
   "execution_count": null,
   "metadata": {},
   "outputs": [],
   "source": [
    "\n"
   ]
  },
  {
   "attachments": {},
   "cell_type": "markdown",
   "metadata": {},
   "source": [
    "Aufgabe 7: Superhelden-Quiz\n",
    "Erstelle ein Modul namens \"superhelden\", das eine Liste von Superhelden enthält. Importiere dieses Modul in deinem Hauptprogramm und lass deinen Sitznachbarn einen Superheldennamen eingeben. Das Programm soll dann sagen, ob dieser Superheld in der Liste enthalten ist oder nicht. Damit das Programm nicht abhängig von der Groß- und Kleinschreibung ist könnt ihr jeden String in Kleinbuchstaben transformieren:\n",
    "```python \n",
    "string.lower()\n",
    "\n",
    "Bsp.)\n",
    "\n",
    "print(\"A\".lower()) # -> \"a\"\n",
    "superheld1 = \"Superman\"\n",
    "superheld1 = superheld1.lower() \n",
    "print(superheld1) # -> superman \n",
    "``` \n"
   ]
  },
  {
   "cell_type": "code",
   "execution_count": null,
   "metadata": {},
   "outputs": [],
   "source": []
  },
  {
   "attachments": {},
   "cell_type": "markdown",
   "metadata": {},
   "source": [
    "Aufgabe 8: \n",
    "Erstelle ein Modul, dass verschiedene Funktionen beinhaltet, die folgendes berechnen:\n",
    "* Mittelwert einer Liste von Zahlen: Addiere alle Werte aus der Liste und teile durch die Länge der Liste\n",
    "* Maximum einer Liste von Zahlen: Gibt den größten Wert der Liste zurück \n",
    "* Minimum einer Liste von Zahlen: Gibt den kleinsten Wert der Liste zurück\n",
    "\n",
    "Finde drei Beispiele, an denen du die Funktionen prüfst."
   ]
  },
  {
   "cell_type": "code",
   "execution_count": null,
   "metadata": {},
   "outputs": [],
   "source": []
  },
  {
   "attachments": {},
   "cell_type": "markdown",
   "metadata": {},
   "source": [
    "Aufgabe 9: \n",
    "Erstelle ein Modul namens \"formen\", das Funktionen zur Berechnung von Eigenschaften geometrischer Formen enthält, wie z. B. die Fläche eines Quadrats oder den Umfang eines Kreises. Importiere dieses Modul in deinem Hauptprogramm und denke dir Testfälle aus, die dein Programm überprüfen. Gibt es Eingabewerte, die du ausschließen musst? Wenn ja, denke dir eine sinnvolle Fehlermeldung aus und gib nichts zurück."
   ]
  },
  {
   "cell_type": "code",
   "execution_count": null,
   "metadata": {},
   "outputs": [],
   "source": []
  },
  {
   "attachments": {},
   "cell_type": "markdown",
   "metadata": {},
   "source": [
    "## $$\\textbf{Maps}$$\n",
    "<hr>"
   ]
  },
  {
   "attachments": {},
   "cell_type": "markdown",
   "metadata": {},
   "source": [
    "* Stell dir vor, dein Programm soll eine bestimmte Anweisung (Funktion) immer wieder durchführen. Wie wir bereits gesehen haben kann man dafür Schleifen verwenden. Hier stellen wir eine andere Methode mit etwas weniger Schreibarbeit vor.\n",
    "* In Python ist map ein Werkzeug, das eine bestimmte Regel auf jedes Element in einer Liste anwendet und das Ergebnis zurückgibt\n",
    "* Hier ein Beispiel:\n",
    "    * Angenommen, du hast eine Liste von Zahlen: [1, 2, 3, 4, 5]. Du möchtest jeden Wert in der Liste verdoppeln und in einer neuen Liste speichern.\n",
    "    \n",
    "        * *Das ist, was du **ohne** map tun müsstest:*\n",
    "            ```python \n",
    "            zahlen = [1, 2, 3, 4, 5]\n",
    "            verdoppelte_zahlen = []\n",
    "            for zahl in zahlen:\n",
    "                verdoppelte_zahl = zahl * 2\n",
    "                verdoppelte_zahlen.append(verdoppelte_zahl)\n",
    "            ```\n",
    "        * *Aber **mit** map kannst du das viel einfacher machen:*\n",
    "            ```python\n",
    "            zahlen = [1, 2, 3, 4, 5]\n",
    "            def verdopple(zahl):\n",
    "                return zahl * 2\n",
    "            verdoppelte_zahlen = list(map(verdopple, zahlen))\n",
    "\n",
    "                # Zuerst schreibst du eine Funktion, die das erledigt, was du tun möchtest oder du importierst eine Funktion (so wie du es oben gelernt hast).\n",
    "                # map nimmt die Funktion z.B. \"verdopple\" und wendet sie auf jede Zahl in der Liste von dir bestimmten Liste (hier: \"zahlen\") an \n",
    "                # Das Ergebnis wird in einer neuen Liste namens (hier: \"verdoppelte_zahlen\") gespeichert\n",
    "            ```\n",
    "            \n",
    "\n"
   ]
  },
  {
   "attachments": {},
   "cell_type": "markdown",
   "metadata": {},
   "source": [
    "* Ein weiteres Beispiel:\n",
    "\n",
    "    * Angenommen, du hast eine Liste von Wörtern: ['Apfel', 'Banane', 'Erdbeere'] und du möchtest die Länge jedes Wortes berechnen\n",
    "\n",
    "        * ***Ohne** map müsstest du das so machen:*\n",
    "        ```python\n",
    "        woerter = ['Apfel', 'Banane', 'Erdbeere']\n",
    "        wortlaengen = []\n",
    "        for wort in woerter:\n",
    "            wortlaenge = len(wort)\n",
    "            wortlaengen.append(wortlaenge) #Funktion append hängt Wörter/Buchstaben an andere Wörter oder Buchstaben\n"
   ]
  },
  {
   "attachments": {},
   "cell_type": "markdown",
   "metadata": {},
   "source": [
    "### $$\\textbf{Aufgaben}$$\n",
    "<hr>"
   ]
  },
  {
   "attachments": {},
   "cell_type": "markdown",
   "metadata": {},
   "source": [
    "Aufgabe 10:\n",
    "Schreibe eine Funktion, die eine Liste von Zahlen entgegennimmt und jede Zahl darin quadriert (zahl**2). Verwende dafür die map-Funktion."
   ]
  },
  {
   "cell_type": "code",
   "execution_count": null,
   "metadata": {},
   "outputs": [],
   "source": []
  },
  {
   "attachments": {},
   "cell_type": "markdown",
   "metadata": {},
   "source": [
    "Aufgabe 11: \n",
    "Schreibe eine Funktion, die eine Liste von Wörtern entgegennimmt und jedes Wort in Großbuchstaben umwandelt. Verwende dafür die map-Funktion. Genau wie bei der Funktion lower(), die du bereits kennengelernt hast existiert eine Funktion upper(), die alle Buchstaben eines Wortes in Großbuchstaben (uppercase) umwandelt."
   ]
  },
  {
   "cell_type": "code",
   "execution_count": null,
   "metadata": {},
   "outputs": [],
   "source": [
    "\n"
   ]
  },
  {
   "attachments": {},
   "cell_type": "markdown",
   "metadata": {},
   "source": [
    "Aufgabe 12: \n",
    "Schreibe eine Funktion, die eine Liste von Wörtern entgegennimmt und die Länge jedes Wortes zurückgibt. Verwende dafür die map-Funktion."
   ]
  },
  {
   "cell_type": "code",
   "execution_count": null,
   "metadata": {},
   "outputs": [],
   "source": []
  },
  {
   "attachments": {},
   "cell_type": "markdown",
   "metadata": {},
   "source": [
    "Aufgabe 13:\n",
    "Schreibe eine Funktion, die zwei Listen von Zahlen entgegennimmt und die Elemente paarweise multipliziert. Verwende dafür die map-Funktion. Hinweis: Du kannst map auch mehrere Listen übergeben:\n",
    "```python\n",
    "map(funktion, liste1, liste2)\n",
    "```"
   ]
  },
  {
   "cell_type": "code",
   "execution_count": null,
   "metadata": {},
   "outputs": [],
   "source": []
  },
  {
   "attachments": {},
   "cell_type": "markdown",
   "metadata": {},
   "source": [
    "Aufgabe 14: \n",
    "Schreibe eine Funktion, die eine Liste von Wörtern entgegennimmt und jedes Wort in umgekehrter Reihenfolge zurückgibt. Verwende dafür die map-Funktion. \n",
    "\n",
    "Hinweis: Um ein Wort umzukehren kann man verschieden vorgehen. Man könnte eine Schleife verwenden oder eine list comprehension. In Python gibt es aber auch die Möglichkeit über Indizierung ein Wort von hinten nach vorn durchzugehen (Test[::-1] -> tseT). Probiere mehrere Möglichkeiten aus."
   ]
  },
  {
   "cell_type": "code",
   "execution_count": null,
   "metadata": {},
   "outputs": [],
   "source": []
  },
  {
   "attachments": {},
   "cell_type": "markdown",
   "metadata": {},
   "source": [
    "## $$\\textbf{Filter}$$\n",
    "<hr>"
   ]
  },
  {
   "attachments": {},
   "cell_type": "markdown",
   "metadata": {},
   "source": [
    "* Filter hilft uns dabei, bestimmte Dinge aus einer Liste auszuwählen, für die eine festgelegte Bedingung zutrifft\n",
    "\n",
    "* Es funktioniert, indem es eine Funktion auf jedes Element in der Liste anwendet und nur die Elemente auswählt, für die die Funktion True zurückgibt\n",
    "\n",
    "* Das Ergebnis von filter ist eine neue Liste, die nur die ausgewählten Elemente (die die Bedingung erfüllen) enthält.\n",
    "\n",
    "* Hier sind Beispiele:\n",
    "\n",
    "    * *Gerade Zahlen auswählen:*\n",
    "        * Angenommen, wir haben eine Liste von Zahlen: [1, 2, 3, 4, 5, 6, 7, 8, 9, 10]. Wir möchten nur die geraden Zahlen auswählen.\n",
    "        ```python \n",
    "        zahlen = [1, 2, 3, 4, 5, 6, 7, 8, 9, 10]\n",
    "\n",
    "        def ist_gerade(zahl):\n",
    "            return zahl % 2 == 0\n",
    "\n",
    "        gerade_zahlen = list(filter(ist_gerade, zahlen))\n",
    "        print(gerade_zahlen)  # Ausgabe: [2, 4, 6, 8, 10]\n",
    "        ```\n",
    "    * *Wörter nach Länge auswählen:*\n",
    "        * Angenommen, wir haben eine Liste von Wörtern: ['Apfel', 'Banane', 'Erdbeere', 'Kiwi', 'Melone']. Wir möchten nur die Wörter auswählen, die länger als 5 Buchstaben sind.\n",
    "        ```python\n",
    "        woerter = ['Apfel', 'Banane', 'Erdbeere', 'Kiwi', 'Melone']\n",
    "\n",
    "        def ist_langes_wort(wort):\n",
    "            return len(wort) > 5\n",
    "\n",
    "        lange_woerter = list(filter(ist_langes_wort, woerter))\n",
    "        print(lange_woerter)  # Ausgabe: ['Banane', 'Erdbeere', 'Melone']\n",
    "        ```\n",
    "        \n",
    "\n",
    "\n",
    " "
   ]
  },
  {
   "attachments": {},
   "cell_type": "markdown",
   "metadata": {},
   "source": [
    "### $$\\textbf{Aufgaben}$$\n",
    "<hr>"
   ]
  },
  {
   "attachments": {},
   "cell_type": "markdown",
   "metadata": {},
   "source": [
    "Aufgabe 15: Ungerade Zahlen auswählen\n",
    "Schreibe eine Funktion, die eine Liste von Zahlen entgegennimmt und nur die ungeraden Zahlen auswählt. Verwende dafür die filter-Funktion."
   ]
  },
  {
   "cell_type": "code",
   "execution_count": null,
   "metadata": {},
   "outputs": [],
   "source": []
  },
  {
   "attachments": {},
   "cell_type": "markdown",
   "metadata": {},
   "source": [
    "Aufgabe 16:\n",
    "Schreibe eine Funktion, die eine Liste von Buchstaben entgegennimmt und nur die Vokale (A, E, I, O, U) auswählt. Verwende dafür die filter-Funktion."
   ]
  },
  {
   "cell_type": "code",
   "execution_count": null,
   "metadata": {},
   "outputs": [],
   "source": [
    "\n"
   ]
  },
  {
   "attachments": {},
   "cell_type": "markdown",
   "metadata": {},
   "source": [
    "Aufgabe 17: \n",
    "Schreibe eine Funktion, die eine Liste von Wörtern entgegennimmt und nur die Wörter auswählt, die länger als 5 Buchstaben sind. Verwende dafür die filter-Funktion."
   ]
  },
  {
   "cell_type": "code",
   "execution_count": null,
   "metadata": {},
   "outputs": [],
   "source": []
  },
  {
   "attachments": {},
   "cell_type": "markdown",
   "metadata": {},
   "source": [
    "Aufgabe 18:\n",
    "Schreibe eine Funktion, die eine Liste von Zahlen entgegennimmt und nur die Zahlen auswählt, die durch eine bestimmte Zahl teilbar sind (z. B. 3). Verwende dafür die filter-Funktion.\n",
    "\n",
    "Hinweis: Die Funktion sollte zwei Werte übergeben bekommen. Die Zahl selbst und den Teiler. Das macht die Funktion flexibler und einfacher wiederverwendbar."
   ]
  },
  {
   "cell_type": "code",
   "execution_count": null,
   "metadata": {},
   "outputs": [],
   "source": [
    "\n"
   ]
  },
  {
   "attachments": {},
   "cell_type": "markdown",
   "metadata": {},
   "source": [
    "Aufgabe 19: Namen mit bestimmtem Buchstaben auswählen\n",
    "Schreibe eine Funktion, die eine Liste von Namen entgegennimmt und nur die Namen auswählt, die mit einem bestimmten Buchstaben beginnen (z. B. \"A\"). Verwende dafür die filter-Funktion.\n",
    "\n",
    "Auch hier sollte der Anfangsbuchstabe eurer Funktion übergeben und nicht festgelegt sein."
   ]
  },
  {
   "cell_type": "code",
   "execution_count": null,
   "metadata": {},
   "outputs": [],
   "source": []
  },
  {
   "attachments": {},
   "cell_type": "markdown",
   "metadata": {},
   "source": [
    "## $$\\textbf{Reduce}$$\n",
    "<hr>"
   ]
  },
  {
   "attachments": {},
   "cell_type": "markdown",
   "metadata": {},
   "source": [
    "* Reduce hilft uns, eine Liste von Dingen zu einem einzelnen Wert zu reduzieren, indem es eine bestimmte Operation auf alle Elemente in der Liste anwendet\n",
    "* Es funktioniert, indem es die Elemente paarweise kombiniert und das Ergebnis der Kombination mit dem nächsten Element erneut kombiniert, bis nur noch einen einzelnen Wert übrig bleibt\n",
    "* Hier sind Beispiele:\n",
    "    * *Angenommen, wir haben eine Liste von Zahlen: [1, 2, 3, 4, 5]. Wir möchten die Summe dieser Zahlen berechnen.*\n",
    "    ```python\n",
    "    \n",
    "    from functools import reduce\n",
    "\n",
    "    zahlen = [1, 2, 3, 4, 5]\n",
    "\n",
    "    def addiere(x, y):\n",
    "        return x + y\n",
    "\n",
    "    summe = reduce(addiere, zahlen)\n",
    "    print(summe)  # Ausgabe: 15\n",
    "    #reduce nimmt die Funktion \"addiere\" und kombiniert die Zahlen paarweise: 1+2=3, 3+3=6, 6+4=10, 10+5=15, um die endgültige Summe 15 zu erhalten.\n",
    "    ```\n",
    "* Angenommen, wir haben eine Liste von Zahlen: [1, 2, 3, 4, 5]. *Wir möchten das Produkt dieser Zahlen berechnen.*\n",
    "```python\n",
    "from functools import reduce\n",
    "\n",
    "zahlen = [1, 2, 3, 4, 5]\n",
    "\n",
    "def multipliziere(x, y):\n",
    "    return x * y\n",
    "\n",
    "produkt = reduce(multipliziere, zahlen)\n",
    "print(produkt)  # Ausgabe: 120\n",
    "#reduce nimmt die Funktion \"multipliziere\" und kombiniert die Zahlen paarweise:1*2=2, 2*3=6, 6*4=24, 24*5=120, um das endgültige Produkt 120 zu erhalten.\n",
    "```\n",
    "\n"
   ]
  },
  {
   "attachments": {},
   "cell_type": "markdown",
   "metadata": {},
   "source": [
    "### $$\\textbf{Aufgaben}$$\n",
    "<hr>"
   ]
  },
  {
   "attachments": {},
   "cell_type": "markdown",
   "metadata": {},
   "source": [
    "Aufgabe 20:\n",
    "Schreibe eine Funktion, die eine Liste von Zahlen entgegennimmt und die größte Zahl in der Liste findet. Verwende dafür die reduce-Funktion.\n",
    "\n",
    "Hinweis: Die Funktion, die du reduce übergibst sollte jeweils zwei Zahlen x und y vergleichen (werden der Funktion übergeben). Und sie sollte zwei Fälle unterscheiden (if / else)\n",
    "* x > y $\\rightarrow$ return x\n",
    "* else $\\rightarrow$ return y\n",
    "\n",
    "Das bedeutet, dass sie x zurückgibt wenn es größer ist als y. Wenn das nicht der Fall ist, dann ist y mindestens genauso groß wie x."
   ]
  },
  {
   "cell_type": "code",
   "execution_count": null,
   "metadata": {},
   "outputs": [],
   "source": []
  },
  {
   "attachments": {},
   "cell_type": "markdown",
   "metadata": {},
   "source": [
    "Aufgabe 21:\n",
    "Schreibe eine Funktion, die eine Liste von Namen entgegennimmt und den längsten Namen in der Liste findet. Verwende dafür die reduce-Funktion.\n",
    "\n",
    "Hinweis: Das Prinzip ist ähnlich wie in Aufgabe 22. Nur, dass hier die Längen von Zeichenketten (Strings) verglichen werden."
   ]
  },
  {
   "cell_type": "code",
   "execution_count": null,
   "metadata": {},
   "outputs": [],
   "source": []
  },
  {
   "attachments": {},
   "cell_type": "markdown",
   "metadata": {},
   "source": [
    "Aufgabe 22:\n",
    "Schreibe eine Funktion, die eine Liste von Wörtern entgegennimmt und die Anzahl der Vokale in allen Wörtern zählt. Verwende dafür die reduce-Funktion."
   ]
  },
  {
   "cell_type": "code",
   "execution_count": 1,
   "metadata": {},
   "outputs": [
    {
     "name": "stdout",
     "output_type": "stream",
     "text": [
      "14\n"
     ]
    }
   ],
   "source": []
  },
  {
   "attachments": {},
   "cell_type": "markdown",
   "metadata": {},
   "source": [
    "## $$\\textbf{Dictionary}$$\n",
    "<hr>"
   ]
  },
  {
   "attachments": {},
   "cell_type": "markdown",
   "metadata": {},
   "source": [
    "*  Dictionary $\\approx$ Wörterbuch\n",
    "* Es besteht aus Paaren von Schlüsseln und Werten.\n",
    "* Jeder Schlüssel ist ein einzigartiger Wert zugeordnet, der eine bestimmte Bedeutung hat.\n",
    "\n",
    "* Beispiel 1:\n",
    "    * Wörterbuch von Obst und Farben: Ein einfaches Dictionary, das Obstnamen und ihre Farben enthält.\n",
    "    ```python\n",
    "        obst_farben = {\n",
    "        'Apfel': 'Rot',\n",
    "        'Banane': 'Gelb',\n",
    "        'Kiwi': 'Grün',\n",
    "        'Orange': 'Orange'\n",
    "        }\n",
    "    ```\n",
    "* Beispiel 2:\n",
    "    * Alter der Familienmitglieder: Ein Dictionary, das die Namen der Familienmitglieder und ihr Alter enthält\n",
    "    \n",
    "        ```python\n",
    "        alter_familie = {\n",
    "        'Vater': 35,\n",
    "        'Mutter': 32,\n",
    "        'Sohn': 8,\n",
    "        'Tochter': 6\n",
    "        }\n",
    "    ```\n",
    "\n"
   ]
  },
  {
   "attachments": {},
   "cell_type": "markdown",
   "metadata": {},
   "source": [
    "### $$\\textbf{Aufgaben}$$\n",
    "<hr>"
   ]
  },
  {
   "attachments": {},
   "cell_type": "markdown",
   "metadata": {},
   "source": [
    "Aufgabe 23:\n",
    "Erstelle ein Dictionary, das verschiedene (fiktive) Firmen und deren (fiktive) Telefonnummern entält."
   ]
  },
  {
   "cell_type": "code",
   "execution_count": 3,
   "metadata": {},
   "outputs": [
    {
     "name": "stdout",
     "output_type": "stream",
     "text": [
      "Die Telefonnummer der gescuhten Firma lautet:  493067981\n"
     ]
    }
   ],
   "source": [
    "\n"
   ]
  },
  {
   "attachments": {},
   "cell_type": "markdown",
   "metadata": {},
   "source": [
    "Aufgabe 24: Schulfächer und Noten\n",
    "Erstelle ein Dictionary, das Schulfächer als Schlüssel und die zugehörigen Noten als Wert enthält. Lasse deinen Sitznachbarn nach einem Schulfach suchen und die Note anzeigen."
   ]
  },
  {
   "cell_type": "code",
   "execution_count": 4,
   "metadata": {},
   "outputs": [
    {
     "name": "stdout",
     "output_type": "stream",
     "text": [
      "Die Note im Schulfach ist: 85\n"
     ]
    }
   ],
   "source": [
    "\n"
   ]
  },
  {
   "attachments": {},
   "cell_type": "markdown",
   "metadata": {},
   "source": [
    "Aufgabe 25: \n",
    "Erstelle ein Dictionary, das Vokabeln als Schlüssel und ihre Bedeutungen als Wert enthält. "
   ]
  },
  {
   "cell_type": "code",
   "execution_count": 5,
   "metadata": {},
   "outputs": [
    {
     "name": "stdout",
     "output_type": "stream",
     "text": [
      "Die Bedeutung der Vokabel ist: Eine runde Frucht, die rot, grün oder gelb sein kann.\n"
     ]
    }
   ],
   "source": [
    "\n"
   ]
  },
  {
   "attachments": {},
   "cell_type": "markdown",
   "metadata": {},
   "source": [
    "### $$\\textbf{Danke für eure Aufmerksamkeit!}$$\n",
    "<hr>  "
   ]
  }
 ],
 "metadata": {
  "celltoolbar": "Slideshow",
  "kernelspec": {
   "display_name": "Python 3 (ipykernel)",
   "language": "python",
   "name": "python3"
  },
  "language_info": {
   "codemirror_mode": {
    "name": "ipython",
    "version": 3
   },
   "file_extension": ".py",
   "mimetype": "text/x-python",
   "name": "python",
   "nbconvert_exporter": "python",
   "pygments_lexer": "ipython3",
   "version": "3.10.6"
  }
 },
 "nbformat": 4,
 "nbformat_minor": 1
}
